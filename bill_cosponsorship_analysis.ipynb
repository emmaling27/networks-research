{
 "cells": [
  {
   "cell_type": "code",
   "execution_count": 285,
   "metadata": {
    "collapsed": true
   },
   "outputs": [],
   "source": [
    "import pandas as pd\n",
    "import networkx as nx\n",
    "import numpy as np\n",
    "import matplotlib.pyplot as plt\n",
    "import random\n",
    "from networkx.algorithms import centrality\n",
    "from networkx.readwrite.gpickle import write_gpickle, read_gpickle\n",
    "import os"
   ]
  },
  {
   "cell_type": "code",
   "execution_count": 3,
   "metadata": {
    "collapsed": true
   },
   "outputs": [],
   "source": [
    "def below_threshold_df(df, n_cosponsors):\n",
    "    num_of_cosponsors_per_bill = {}\n",
    "    for bill in df.bill_number.unique():\n",
    "        num_of_cosponsors_per_bill[bill] = 0\n",
    "    for bill in df.bill_number:\n",
    "        num_of_cosponsors_per_bill[bill] += 1\n",
    "    df = df.set_index(\"bill_number\")\n",
    "    for bill in num_of_cosponsors_per_bill:\n",
    "        if num_of_cosponsors_per_bill[bill] > n_cosponsors:\n",
    "            df = df.drop(bill)\n",
    "    return df.reset_index()"
   ]
  },
  {
   "cell_type": "code",
   "execution_count": 356,
   "metadata": {
    "scrolled": true
   },
   "outputs": [
    {
     "data": {
      "text/html": [
       "<div>\n",
       "<style>\n",
       "    .dataframe thead tr:only-child th {\n",
       "        text-align: right;\n",
       "    }\n",
       "\n",
       "    .dataframe thead th {\n",
       "        text-align: left;\n",
       "    }\n",
       "\n",
       "    .dataframe tbody tr th {\n",
       "        vertical-align: top;\n",
       "    }\n",
       "</style>\n",
       "<table border=\"1\" class=\"dataframe\">\n",
       "  <thead>\n",
       "    <tr style=\"text-align: right;\">\n",
       "      <th></th>\n",
       "      <th>Unnamed: 0</th>\n",
       "      <th>bill_number</th>\n",
       "      <th>name</th>\n",
       "      <th>thomas_id</th>\n",
       "      <th>bioguide_id</th>\n",
       "      <th>state</th>\n",
       "      <th>district</th>\n",
       "      <th>sponsor</th>\n",
       "      <th>original_cosponsor</th>\n",
       "      <th>date_signed</th>\n",
       "      <th>date_withdrawn</th>\n",
       "    </tr>\n",
       "  </thead>\n",
       "  <tbody>\n",
       "    <tr>\n",
       "      <th>0</th>\n",
       "      <td>0</td>\n",
       "      <td>hconres1-114</td>\n",
       "      <td>Sessions, Pete</td>\n",
       "      <td>NaN</td>\n",
       "      <td>S000250</td>\n",
       "      <td>TX</td>\n",
       "      <td>32.0</td>\n",
       "      <td>True</td>\n",
       "      <td>False</td>\n",
       "      <td>2015-01-06</td>\n",
       "      <td>NaN</td>\n",
       "    </tr>\n",
       "    <tr>\n",
       "      <th>1</th>\n",
       "      <td>1</td>\n",
       "      <td>hconres10-114</td>\n",
       "      <td>Fattah, Chaka</td>\n",
       "      <td>NaN</td>\n",
       "      <td>F000043</td>\n",
       "      <td>PA</td>\n",
       "      <td>2.0</td>\n",
       "      <td>True</td>\n",
       "      <td>False</td>\n",
       "      <td>2015-01-27</td>\n",
       "      <td>NaN</td>\n",
       "    </tr>\n",
       "    <tr>\n",
       "      <th>2</th>\n",
       "      <td>2</td>\n",
       "      <td>hconres10-114</td>\n",
       "      <td>Levin, Sander M.</td>\n",
       "      <td>NaN</td>\n",
       "      <td>L000263</td>\n",
       "      <td>MI</td>\n",
       "      <td>9.0</td>\n",
       "      <td>False</td>\n",
       "      <td>False</td>\n",
       "      <td>2015-02-13</td>\n",
       "      <td>NaN</td>\n",
       "    </tr>\n",
       "    <tr>\n",
       "      <th>3</th>\n",
       "      <td>3</td>\n",
       "      <td>hconres10-114</td>\n",
       "      <td>Vargas, Juan</td>\n",
       "      <td>NaN</td>\n",
       "      <td>V000130</td>\n",
       "      <td>CA</td>\n",
       "      <td>51.0</td>\n",
       "      <td>False</td>\n",
       "      <td>True</td>\n",
       "      <td>2015-01-27</td>\n",
       "      <td>NaN</td>\n",
       "    </tr>\n",
       "    <tr>\n",
       "      <th>4</th>\n",
       "      <td>4</td>\n",
       "      <td>hconres102-114</td>\n",
       "      <td>McCarthy, Kevin</td>\n",
       "      <td>NaN</td>\n",
       "      <td>M001165</td>\n",
       "      <td>CA</td>\n",
       "      <td>23.0</td>\n",
       "      <td>True</td>\n",
       "      <td>False</td>\n",
       "      <td>2015-12-15</td>\n",
       "      <td>NaN</td>\n",
       "    </tr>\n",
       "    <tr>\n",
       "      <th>5</th>\n",
       "      <td>5</td>\n",
       "      <td>hconres103-114</td>\n",
       "      <td>Ellmers, Renee L.</td>\n",
       "      <td>NaN</td>\n",
       "      <td>E000291</td>\n",
       "      <td>NC</td>\n",
       "      <td>2.0</td>\n",
       "      <td>True</td>\n",
       "      <td>False</td>\n",
       "      <td>2015-12-17</td>\n",
       "      <td>NaN</td>\n",
       "    </tr>\n",
       "    <tr>\n",
       "      <th>6</th>\n",
       "      <td>6</td>\n",
       "      <td>hconres103-114</td>\n",
       "      <td>Brooks, Mo</td>\n",
       "      <td>NaN</td>\n",
       "      <td>B001274</td>\n",
       "      <td>AL</td>\n",
       "      <td>5.0</td>\n",
       "      <td>False</td>\n",
       "      <td>True</td>\n",
       "      <td>2015-12-17</td>\n",
       "      <td>NaN</td>\n",
       "    </tr>\n",
       "    <tr>\n",
       "      <th>7</th>\n",
       "      <td>7</td>\n",
       "      <td>hconres103-114</td>\n",
       "      <td>Culberson, John Abney</td>\n",
       "      <td>NaN</td>\n",
       "      <td>C001048</td>\n",
       "      <td>TX</td>\n",
       "      <td>7.0</td>\n",
       "      <td>False</td>\n",
       "      <td>True</td>\n",
       "      <td>2015-12-17</td>\n",
       "      <td>NaN</td>\n",
       "    </tr>\n",
       "    <tr>\n",
       "      <th>8</th>\n",
       "      <td>8</td>\n",
       "      <td>hconres104-114</td>\n",
       "      <td>Price, Tom</td>\n",
       "      <td>NaN</td>\n",
       "      <td>P000591</td>\n",
       "      <td>GA</td>\n",
       "      <td>6.0</td>\n",
       "      <td>True</td>\n",
       "      <td>False</td>\n",
       "      <td>2015-12-18</td>\n",
       "      <td>NaN</td>\n",
       "    </tr>\n",
       "    <tr>\n",
       "      <th>9</th>\n",
       "      <td>9</td>\n",
       "      <td>hconres106-114</td>\n",
       "      <td>Cole, Tom</td>\n",
       "      <td>NaN</td>\n",
       "      <td>C001053</td>\n",
       "      <td>OK</td>\n",
       "      <td>4.0</td>\n",
       "      <td>True</td>\n",
       "      <td>False</td>\n",
       "      <td>2016-01-11</td>\n",
       "      <td>NaN</td>\n",
       "    </tr>\n",
       "    <tr>\n",
       "      <th>10</th>\n",
       "      <td>10</td>\n",
       "      <td>hconres107-114</td>\n",
       "      <td>Gohmert, Louie</td>\n",
       "      <td>NaN</td>\n",
       "      <td>G000552</td>\n",
       "      <td>TX</td>\n",
       "      <td>1.0</td>\n",
       "      <td>True</td>\n",
       "      <td>False</td>\n",
       "      <td>2016-01-13</td>\n",
       "      <td>NaN</td>\n",
       "    </tr>\n",
       "    <tr>\n",
       "      <th>11</th>\n",
       "      <td>11</td>\n",
       "      <td>hconres109-114</td>\n",
       "      <td>Sewell, Terri A.</td>\n",
       "      <td>NaN</td>\n",
       "      <td>S001185</td>\n",
       "      <td>AL</td>\n",
       "      <td>7.0</td>\n",
       "      <td>True</td>\n",
       "      <td>False</td>\n",
       "      <td>2016-02-01</td>\n",
       "      <td>NaN</td>\n",
       "    </tr>\n",
       "    <tr>\n",
       "      <th>12</th>\n",
       "      <td>12</td>\n",
       "      <td>hconres11-114</td>\n",
       "      <td>Quigley, Mike</td>\n",
       "      <td>NaN</td>\n",
       "      <td>Q000023</td>\n",
       "      <td>IL</td>\n",
       "      <td>5.0</td>\n",
       "      <td>True</td>\n",
       "      <td>False</td>\n",
       "      <td>2015-01-28</td>\n",
       "      <td>NaN</td>\n",
       "    </tr>\n",
       "    <tr>\n",
       "      <th>13</th>\n",
       "      <td>13</td>\n",
       "      <td>hconres11-114</td>\n",
       "      <td>Heck, Joseph J.</td>\n",
       "      <td>NaN</td>\n",
       "      <td>H001055</td>\n",
       "      <td>NV</td>\n",
       "      <td>3.0</td>\n",
       "      <td>False</td>\n",
       "      <td>True</td>\n",
       "      <td>2015-01-28</td>\n",
       "      <td>NaN</td>\n",
       "    </tr>\n",
       "    <tr>\n",
       "      <th>14</th>\n",
       "      <td>14</td>\n",
       "      <td>hconres11-114</td>\n",
       "      <td>Lee, Barbara</td>\n",
       "      <td>NaN</td>\n",
       "      <td>L000551</td>\n",
       "      <td>CA</td>\n",
       "      <td>13.0</td>\n",
       "      <td>False</td>\n",
       "      <td>True</td>\n",
       "      <td>2015-01-28</td>\n",
       "      <td>NaN</td>\n",
       "    </tr>\n",
       "    <tr>\n",
       "      <th>15</th>\n",
       "      <td>15</td>\n",
       "      <td>hconres111-114</td>\n",
       "      <td>Meehan, Patrick</td>\n",
       "      <td>NaN</td>\n",
       "      <td>M001181</td>\n",
       "      <td>PA</td>\n",
       "      <td>7.0</td>\n",
       "      <td>True</td>\n",
       "      <td>False</td>\n",
       "      <td>2016-02-02</td>\n",
       "      <td>NaN</td>\n",
       "    </tr>\n",
       "    <tr>\n",
       "      <th>16</th>\n",
       "      <td>16</td>\n",
       "      <td>hconres111-114</td>\n",
       "      <td>Deutch, Theodore E.</td>\n",
       "      <td>NaN</td>\n",
       "      <td>D000610</td>\n",
       "      <td>FL</td>\n",
       "      <td>21.0</td>\n",
       "      <td>False</td>\n",
       "      <td>True</td>\n",
       "      <td>2016-02-02</td>\n",
       "      <td>NaN</td>\n",
       "    </tr>\n",
       "    <tr>\n",
       "      <th>17</th>\n",
       "      <td>17</td>\n",
       "      <td>hconres111-114</td>\n",
       "      <td>Israel, Steve</td>\n",
       "      <td>NaN</td>\n",
       "      <td>I000057</td>\n",
       "      <td>NY</td>\n",
       "      <td>3.0</td>\n",
       "      <td>False</td>\n",
       "      <td>True</td>\n",
       "      <td>2016-02-02</td>\n",
       "      <td>NaN</td>\n",
       "    </tr>\n",
       "    <tr>\n",
       "      <th>18</th>\n",
       "      <td>18</td>\n",
       "      <td>hconres113-114</td>\n",
       "      <td>Posey, Bill</td>\n",
       "      <td>NaN</td>\n",
       "      <td>P000599</td>\n",
       "      <td>FL</td>\n",
       "      <td>8.0</td>\n",
       "      <td>True</td>\n",
       "      <td>False</td>\n",
       "      <td>2016-02-09</td>\n",
       "      <td>NaN</td>\n",
       "    </tr>\n",
       "    <tr>\n",
       "      <th>19</th>\n",
       "      <td>19</td>\n",
       "      <td>hconres113-114</td>\n",
       "      <td>Pierluisi, Pedro R.</td>\n",
       "      <td>NaN</td>\n",
       "      <td>P000596</td>\n",
       "      <td>PR</td>\n",
       "      <td>0.0</td>\n",
       "      <td>False</td>\n",
       "      <td>True</td>\n",
       "      <td>2016-02-09</td>\n",
       "      <td>NaN</td>\n",
       "    </tr>\n",
       "    <tr>\n",
       "      <th>20</th>\n",
       "      <td>20</td>\n",
       "      <td>hconres115-114</td>\n",
       "      <td>Takai, Mark</td>\n",
       "      <td>NaN</td>\n",
       "      <td>T000473</td>\n",
       "      <td>HI</td>\n",
       "      <td>1.0</td>\n",
       "      <td>True</td>\n",
       "      <td>False</td>\n",
       "      <td>2016-02-11</td>\n",
       "      <td>NaN</td>\n",
       "    </tr>\n",
       "    <tr>\n",
       "      <th>21</th>\n",
       "      <td>21</td>\n",
       "      <td>hconres115-114</td>\n",
       "      <td>Gabbard, Tulsi</td>\n",
       "      <td>NaN</td>\n",
       "      <td>G000571</td>\n",
       "      <td>HI</td>\n",
       "      <td>2.0</td>\n",
       "      <td>False</td>\n",
       "      <td>True</td>\n",
       "      <td>2016-02-11</td>\n",
       "      <td>NaN</td>\n",
       "    </tr>\n",
       "    <tr>\n",
       "      <th>22</th>\n",
       "      <td>22</td>\n",
       "      <td>hconres116-114</td>\n",
       "      <td>Ashford, Brad</td>\n",
       "      <td>NaN</td>\n",
       "      <td>A000373</td>\n",
       "      <td>NE</td>\n",
       "      <td>2.0</td>\n",
       "      <td>True</td>\n",
       "      <td>False</td>\n",
       "      <td>2016-02-12</td>\n",
       "      <td>NaN</td>\n",
       "    </tr>\n",
       "    <tr>\n",
       "      <th>23</th>\n",
       "      <td>23</td>\n",
       "      <td>hconres117-114</td>\n",
       "      <td>Barletta, Lou</td>\n",
       "      <td>NaN</td>\n",
       "      <td>B001269</td>\n",
       "      <td>PA</td>\n",
       "      <td>11.0</td>\n",
       "      <td>True</td>\n",
       "      <td>False</td>\n",
       "      <td>2016-02-23</td>\n",
       "      <td>NaN</td>\n",
       "    </tr>\n",
       "    <tr>\n",
       "      <th>24</th>\n",
       "      <td>24</td>\n",
       "      <td>hconres117-114</td>\n",
       "      <td>Carson, Andre</td>\n",
       "      <td>NaN</td>\n",
       "      <td>C001072</td>\n",
       "      <td>IN</td>\n",
       "      <td>7.0</td>\n",
       "      <td>False</td>\n",
       "      <td>True</td>\n",
       "      <td>2016-02-23</td>\n",
       "      <td>NaN</td>\n",
       "    </tr>\n",
       "    <tr>\n",
       "      <th>25</th>\n",
       "      <td>25</td>\n",
       "      <td>hconres12-114</td>\n",
       "      <td>Tiberi, Patrick J.</td>\n",
       "      <td>NaN</td>\n",
       "      <td>T000462</td>\n",
       "      <td>OH</td>\n",
       "      <td>12.0</td>\n",
       "      <td>True</td>\n",
       "      <td>False</td>\n",
       "      <td>2015-01-30</td>\n",
       "      <td>NaN</td>\n",
       "    </tr>\n",
       "    <tr>\n",
       "      <th>26</th>\n",
       "      <td>26</td>\n",
       "      <td>hconres120-114</td>\n",
       "      <td>King, Peter T.</td>\n",
       "      <td>NaN</td>\n",
       "      <td>K000210</td>\n",
       "      <td>NY</td>\n",
       "      <td>2.0</td>\n",
       "      <td>True</td>\n",
       "      <td>False</td>\n",
       "      <td>2016-02-26</td>\n",
       "      <td>NaN</td>\n",
       "    </tr>\n",
       "    <tr>\n",
       "      <th>27</th>\n",
       "      <td>27</td>\n",
       "      <td>hconres120-114</td>\n",
       "      <td>Hoyer, Steny H.</td>\n",
       "      <td>NaN</td>\n",
       "      <td>H000874</td>\n",
       "      <td>MD</td>\n",
       "      <td>5.0</td>\n",
       "      <td>False</td>\n",
       "      <td>True</td>\n",
       "      <td>2016-02-26</td>\n",
       "      <td>NaN</td>\n",
       "    </tr>\n",
       "    <tr>\n",
       "      <th>28</th>\n",
       "      <td>28</td>\n",
       "      <td>hconres120-114</td>\n",
       "      <td>Pascrell, Bill, Jr.</td>\n",
       "      <td>NaN</td>\n",
       "      <td>P000096</td>\n",
       "      <td>NJ</td>\n",
       "      <td>9.0</td>\n",
       "      <td>False</td>\n",
       "      <td>True</td>\n",
       "      <td>2016-02-26</td>\n",
       "      <td>NaN</td>\n",
       "    </tr>\n",
       "    <tr>\n",
       "      <th>29</th>\n",
       "      <td>29</td>\n",
       "      <td>hconres120-114</td>\n",
       "      <td>Reichert, David G.</td>\n",
       "      <td>NaN</td>\n",
       "      <td>R000578</td>\n",
       "      <td>WA</td>\n",
       "      <td>8.0</td>\n",
       "      <td>False</td>\n",
       "      <td>True</td>\n",
       "      <td>2016-02-26</td>\n",
       "      <td>NaN</td>\n",
       "    </tr>\n",
       "    <tr>\n",
       "      <th>...</th>\n",
       "      <td>...</td>\n",
       "      <td>...</td>\n",
       "      <td>...</td>\n",
       "      <td>...</td>\n",
       "      <td>...</td>\n",
       "      <td>...</td>\n",
       "      <td>...</td>\n",
       "      <td>...</td>\n",
       "      <td>...</td>\n",
       "      <td>...</td>\n",
       "      <td>...</td>\n",
       "    </tr>\n",
       "    <tr>\n",
       "      <th>8447</th>\n",
       "      <td>8447</td>\n",
       "      <td>hres935-114</td>\n",
       "      <td>Gabbard, Tulsi</td>\n",
       "      <td>NaN</td>\n",
       "      <td>G000571</td>\n",
       "      <td>HI</td>\n",
       "      <td>2.0</td>\n",
       "      <td>True</td>\n",
       "      <td>False</td>\n",
       "      <td>2016-11-29</td>\n",
       "      <td>NaN</td>\n",
       "    </tr>\n",
       "    <tr>\n",
       "      <th>8448</th>\n",
       "      <td>8448</td>\n",
       "      <td>hres935-114</td>\n",
       "      <td>Young, Don</td>\n",
       "      <td>NaN</td>\n",
       "      <td>Y000033</td>\n",
       "      <td>AK</td>\n",
       "      <td>0.0</td>\n",
       "      <td>False</td>\n",
       "      <td>True</td>\n",
       "      <td>2016-11-29</td>\n",
       "      <td>NaN</td>\n",
       "    </tr>\n",
       "    <tr>\n",
       "      <th>8449</th>\n",
       "      <td>8449</td>\n",
       "      <td>hres936-114</td>\n",
       "      <td>Welch, Peter</td>\n",
       "      <td>NaN</td>\n",
       "      <td>W000800</td>\n",
       "      <td>VT</td>\n",
       "      <td>0.0</td>\n",
       "      <td>True</td>\n",
       "      <td>False</td>\n",
       "      <td>2016-11-29</td>\n",
       "      <td>NaN</td>\n",
       "    </tr>\n",
       "    <tr>\n",
       "      <th>8450</th>\n",
       "      <td>8450</td>\n",
       "      <td>hres937-114</td>\n",
       "      <td>Byrne, Bradley</td>\n",
       "      <td>NaN</td>\n",
       "      <td>B001289</td>\n",
       "      <td>AL</td>\n",
       "      <td>1.0</td>\n",
       "      <td>True</td>\n",
       "      <td>False</td>\n",
       "      <td>2016-11-30</td>\n",
       "      <td>NaN</td>\n",
       "    </tr>\n",
       "    <tr>\n",
       "      <th>8451</th>\n",
       "      <td>8451</td>\n",
       "      <td>hres938-114</td>\n",
       "      <td>Tonko, Paul</td>\n",
       "      <td>NaN</td>\n",
       "      <td>T000469</td>\n",
       "      <td>NY</td>\n",
       "      <td>20.0</td>\n",
       "      <td>True</td>\n",
       "      <td>False</td>\n",
       "      <td>2016-11-30</td>\n",
       "      <td>NaN</td>\n",
       "    </tr>\n",
       "    <tr>\n",
       "      <th>8452</th>\n",
       "      <td>8452</td>\n",
       "      <td>hres938-114</td>\n",
       "      <td>McKinley, David B.</td>\n",
       "      <td>NaN</td>\n",
       "      <td>M001180</td>\n",
       "      <td>WV</td>\n",
       "      <td>1.0</td>\n",
       "      <td>False</td>\n",
       "      <td>True</td>\n",
       "      <td>2016-11-30</td>\n",
       "      <td>NaN</td>\n",
       "    </tr>\n",
       "    <tr>\n",
       "      <th>8453</th>\n",
       "      <td>8453</td>\n",
       "      <td>hres939-114</td>\n",
       "      <td>Welch, Peter</td>\n",
       "      <td>NaN</td>\n",
       "      <td>W000800</td>\n",
       "      <td>VT</td>\n",
       "      <td>0.0</td>\n",
       "      <td>True</td>\n",
       "      <td>False</td>\n",
       "      <td>2016-11-30</td>\n",
       "      <td>NaN</td>\n",
       "    </tr>\n",
       "    <tr>\n",
       "      <th>8454</th>\n",
       "      <td>8454</td>\n",
       "      <td>hres940-114</td>\n",
       "      <td>Foster, Bill</td>\n",
       "      <td>NaN</td>\n",
       "      <td>F000454</td>\n",
       "      <td>IL</td>\n",
       "      <td>11.0</td>\n",
       "      <td>True</td>\n",
       "      <td>False</td>\n",
       "      <td>2016-12-02</td>\n",
       "      <td>NaN</td>\n",
       "    </tr>\n",
       "    <tr>\n",
       "      <th>8455</th>\n",
       "      <td>8455</td>\n",
       "      <td>hres940-114</td>\n",
       "      <td>Takano, Mark</td>\n",
       "      <td>NaN</td>\n",
       "      <td>T000472</td>\n",
       "      <td>CA</td>\n",
       "      <td>41.0</td>\n",
       "      <td>False</td>\n",
       "      <td>True</td>\n",
       "      <td>2016-12-02</td>\n",
       "      <td>NaN</td>\n",
       "    </tr>\n",
       "    <tr>\n",
       "      <th>8456</th>\n",
       "      <td>8456</td>\n",
       "      <td>hres941-114</td>\n",
       "      <td>Cardenas, Tony</td>\n",
       "      <td>NaN</td>\n",
       "      <td>C001097</td>\n",
       "      <td>CA</td>\n",
       "      <td>29.0</td>\n",
       "      <td>True</td>\n",
       "      <td>False</td>\n",
       "      <td>2016-12-05</td>\n",
       "      <td>NaN</td>\n",
       "    </tr>\n",
       "    <tr>\n",
       "      <th>8457</th>\n",
       "      <td>8457</td>\n",
       "      <td>hres941-114</td>\n",
       "      <td>Lofgren, Zoe</td>\n",
       "      <td>NaN</td>\n",
       "      <td>L000397</td>\n",
       "      <td>CA</td>\n",
       "      <td>19.0</td>\n",
       "      <td>False</td>\n",
       "      <td>True</td>\n",
       "      <td>2016-12-05</td>\n",
       "      <td>NaN</td>\n",
       "    </tr>\n",
       "    <tr>\n",
       "      <th>8458</th>\n",
       "      <td>8458</td>\n",
       "      <td>hres943-114</td>\n",
       "      <td>Gabbard, Tulsi</td>\n",
       "      <td>NaN</td>\n",
       "      <td>G000571</td>\n",
       "      <td>HI</td>\n",
       "      <td>2.0</td>\n",
       "      <td>True</td>\n",
       "      <td>False</td>\n",
       "      <td>2016-12-05</td>\n",
       "      <td>NaN</td>\n",
       "    </tr>\n",
       "    <tr>\n",
       "      <th>8459</th>\n",
       "      <td>8459</td>\n",
       "      <td>hres944-114</td>\n",
       "      <td>Byrne, Bradley</td>\n",
       "      <td>NaN</td>\n",
       "      <td>B001289</td>\n",
       "      <td>AL</td>\n",
       "      <td>1.0</td>\n",
       "      <td>True</td>\n",
       "      <td>False</td>\n",
       "      <td>2016-12-06</td>\n",
       "      <td>NaN</td>\n",
       "    </tr>\n",
       "    <tr>\n",
       "      <th>8460</th>\n",
       "      <td>8460</td>\n",
       "      <td>hres945-114</td>\n",
       "      <td>McCarthy, Kevin</td>\n",
       "      <td>NaN</td>\n",
       "      <td>M001165</td>\n",
       "      <td>CA</td>\n",
       "      <td>23.0</td>\n",
       "      <td>True</td>\n",
       "      <td>False</td>\n",
       "      <td>2016-12-06</td>\n",
       "      <td>NaN</td>\n",
       "    </tr>\n",
       "    <tr>\n",
       "      <th>8461</th>\n",
       "      <td>8461</td>\n",
       "      <td>hres946-114</td>\n",
       "      <td>Conyers, John, Jr.</td>\n",
       "      <td>NaN</td>\n",
       "      <td>C000714</td>\n",
       "      <td>MI</td>\n",
       "      <td>13.0</td>\n",
       "      <td>True</td>\n",
       "      <td>False</td>\n",
       "      <td>2016-12-06</td>\n",
       "      <td>NaN</td>\n",
       "    </tr>\n",
       "    <tr>\n",
       "      <th>8462</th>\n",
       "      <td>8462</td>\n",
       "      <td>hres946-114</td>\n",
       "      <td>Dingell, Debbie</td>\n",
       "      <td>NaN</td>\n",
       "      <td>D000624</td>\n",
       "      <td>MI</td>\n",
       "      <td>12.0</td>\n",
       "      <td>False</td>\n",
       "      <td>True</td>\n",
       "      <td>2016-12-06</td>\n",
       "      <td>NaN</td>\n",
       "    </tr>\n",
       "    <tr>\n",
       "      <th>8463</th>\n",
       "      <td>8463</td>\n",
       "      <td>hres946-114</td>\n",
       "      <td>Kildee, Daniel T.</td>\n",
       "      <td>NaN</td>\n",
       "      <td>K000380</td>\n",
       "      <td>MI</td>\n",
       "      <td>5.0</td>\n",
       "      <td>False</td>\n",
       "      <td>True</td>\n",
       "      <td>2016-12-06</td>\n",
       "      <td>NaN</td>\n",
       "    </tr>\n",
       "    <tr>\n",
       "      <th>8464</th>\n",
       "      <td>8464</td>\n",
       "      <td>hres946-114</td>\n",
       "      <td>Lawrence, Brenda L.</td>\n",
       "      <td>NaN</td>\n",
       "      <td>L000581</td>\n",
       "      <td>MI</td>\n",
       "      <td>14.0</td>\n",
       "      <td>False</td>\n",
       "      <td>True</td>\n",
       "      <td>2016-12-06</td>\n",
       "      <td>NaN</td>\n",
       "    </tr>\n",
       "    <tr>\n",
       "      <th>8465</th>\n",
       "      <td>8465</td>\n",
       "      <td>hres946-114</td>\n",
       "      <td>Levin, Sander M.</td>\n",
       "      <td>NaN</td>\n",
       "      <td>L000263</td>\n",
       "      <td>MI</td>\n",
       "      <td>9.0</td>\n",
       "      <td>False</td>\n",
       "      <td>True</td>\n",
       "      <td>2016-12-06</td>\n",
       "      <td>NaN</td>\n",
       "    </tr>\n",
       "    <tr>\n",
       "      <th>8466</th>\n",
       "      <td>8466</td>\n",
       "      <td>hres947-114</td>\n",
       "      <td>Richmond, Cedric L.</td>\n",
       "      <td>NaN</td>\n",
       "      <td>R000588</td>\n",
       "      <td>LA</td>\n",
       "      <td>2.0</td>\n",
       "      <td>True</td>\n",
       "      <td>False</td>\n",
       "      <td>2016-12-06</td>\n",
       "      <td>NaN</td>\n",
       "    </tr>\n",
       "    <tr>\n",
       "      <th>8467</th>\n",
       "      <td>8467</td>\n",
       "      <td>hres949-114</td>\n",
       "      <td>Woodall, Rob</td>\n",
       "      <td>NaN</td>\n",
       "      <td>W000810</td>\n",
       "      <td>GA</td>\n",
       "      <td>7.0</td>\n",
       "      <td>True</td>\n",
       "      <td>False</td>\n",
       "      <td>2016-12-07</td>\n",
       "      <td>NaN</td>\n",
       "    </tr>\n",
       "    <tr>\n",
       "      <th>8468</th>\n",
       "      <td>8468</td>\n",
       "      <td>hres95-114</td>\n",
       "      <td>Vargas, Juan</td>\n",
       "      <td>NaN</td>\n",
       "      <td>V000130</td>\n",
       "      <td>CA</td>\n",
       "      <td>51.0</td>\n",
       "      <td>True</td>\n",
       "      <td>False</td>\n",
       "      <td>2015-02-05</td>\n",
       "      <td>NaN</td>\n",
       "    </tr>\n",
       "    <tr>\n",
       "      <th>8469</th>\n",
       "      <td>8469</td>\n",
       "      <td>hres95-114</td>\n",
       "      <td>Honda, Michael M.</td>\n",
       "      <td>NaN</td>\n",
       "      <td>H001034</td>\n",
       "      <td>CA</td>\n",
       "      <td>17.0</td>\n",
       "      <td>False</td>\n",
       "      <td>False</td>\n",
       "      <td>2015-04-23</td>\n",
       "      <td>NaN</td>\n",
       "    </tr>\n",
       "    <tr>\n",
       "      <th>8470</th>\n",
       "      <td>8470</td>\n",
       "      <td>hres95-114</td>\n",
       "      <td>Peters, Scott H.</td>\n",
       "      <td>NaN</td>\n",
       "      <td>P000608</td>\n",
       "      <td>CA</td>\n",
       "      <td>52.0</td>\n",
       "      <td>False</td>\n",
       "      <td>False</td>\n",
       "      <td>2015-04-23</td>\n",
       "      <td>NaN</td>\n",
       "    </tr>\n",
       "    <tr>\n",
       "      <th>8471</th>\n",
       "      <td>8471</td>\n",
       "      <td>hres950-114</td>\n",
       "      <td>Garrett, Scott</td>\n",
       "      <td>NaN</td>\n",
       "      <td>G000548</td>\n",
       "      <td>NJ</td>\n",
       "      <td>5.0</td>\n",
       "      <td>True</td>\n",
       "      <td>False</td>\n",
       "      <td>2016-12-07</td>\n",
       "      <td>NaN</td>\n",
       "    </tr>\n",
       "    <tr>\n",
       "      <th>8472</th>\n",
       "      <td>8472</td>\n",
       "      <td>hres951-114</td>\n",
       "      <td>Royce, Edward R.</td>\n",
       "      <td>NaN</td>\n",
       "      <td>R000487</td>\n",
       "      <td>CA</td>\n",
       "      <td>39.0</td>\n",
       "      <td>True</td>\n",
       "      <td>False</td>\n",
       "      <td>2016-12-08</td>\n",
       "      <td>NaN</td>\n",
       "    </tr>\n",
       "    <tr>\n",
       "      <th>8473</th>\n",
       "      <td>8473</td>\n",
       "      <td>hres96-114</td>\n",
       "      <td>Wilson, Frederica S.</td>\n",
       "      <td>NaN</td>\n",
       "      <td>W000808</td>\n",
       "      <td>FL</td>\n",
       "      <td>24.0</td>\n",
       "      <td>True</td>\n",
       "      <td>False</td>\n",
       "      <td>2015-02-05</td>\n",
       "      <td>NaN</td>\n",
       "    </tr>\n",
       "    <tr>\n",
       "      <th>8474</th>\n",
       "      <td>8474</td>\n",
       "      <td>hres97-114</td>\n",
       "      <td>Chaffetz, Jason</td>\n",
       "      <td>NaN</td>\n",
       "      <td>C001076</td>\n",
       "      <td>UT</td>\n",
       "      <td>3.0</td>\n",
       "      <td>True</td>\n",
       "      <td>False</td>\n",
       "      <td>2015-02-09</td>\n",
       "      <td>NaN</td>\n",
       "    </tr>\n",
       "    <tr>\n",
       "      <th>8475</th>\n",
       "      <td>8475</td>\n",
       "      <td>hres98-114</td>\n",
       "      <td>Hensarling, Jeb</td>\n",
       "      <td>NaN</td>\n",
       "      <td>H001036</td>\n",
       "      <td>TX</td>\n",
       "      <td>5.0</td>\n",
       "      <td>True</td>\n",
       "      <td>False</td>\n",
       "      <td>2015-02-10</td>\n",
       "      <td>NaN</td>\n",
       "    </tr>\n",
       "    <tr>\n",
       "      <th>8476</th>\n",
       "      <td>8476</td>\n",
       "      <td>hres99-114</td>\n",
       "      <td>Thompson, Bennie G.</td>\n",
       "      <td>NaN</td>\n",
       "      <td>T000193</td>\n",
       "      <td>MS</td>\n",
       "      <td>2.0</td>\n",
       "      <td>True</td>\n",
       "      <td>False</td>\n",
       "      <td>2015-02-10</td>\n",
       "      <td>NaN</td>\n",
       "    </tr>\n",
       "  </tbody>\n",
       "</table>\n",
       "<p>8477 rows × 11 columns</p>\n",
       "</div>"
      ],
      "text/plain": [
       "      Unnamed: 0     bill_number                   name  thomas_id  \\\n",
       "0              0    hconres1-114         Sessions, Pete        NaN   \n",
       "1              1   hconres10-114          Fattah, Chaka        NaN   \n",
       "2              2   hconres10-114       Levin, Sander M.        NaN   \n",
       "3              3   hconres10-114           Vargas, Juan        NaN   \n",
       "4              4  hconres102-114        McCarthy, Kevin        NaN   \n",
       "5              5  hconres103-114      Ellmers, Renee L.        NaN   \n",
       "6              6  hconres103-114             Brooks, Mo        NaN   \n",
       "7              7  hconres103-114  Culberson, John Abney        NaN   \n",
       "8              8  hconres104-114             Price, Tom        NaN   \n",
       "9              9  hconres106-114              Cole, Tom        NaN   \n",
       "10            10  hconres107-114         Gohmert, Louie        NaN   \n",
       "11            11  hconres109-114       Sewell, Terri A.        NaN   \n",
       "12            12   hconres11-114          Quigley, Mike        NaN   \n",
       "13            13   hconres11-114        Heck, Joseph J.        NaN   \n",
       "14            14   hconres11-114           Lee, Barbara        NaN   \n",
       "15            15  hconres111-114        Meehan, Patrick        NaN   \n",
       "16            16  hconres111-114    Deutch, Theodore E.        NaN   \n",
       "17            17  hconres111-114          Israel, Steve        NaN   \n",
       "18            18  hconres113-114            Posey, Bill        NaN   \n",
       "19            19  hconres113-114    Pierluisi, Pedro R.        NaN   \n",
       "20            20  hconres115-114            Takai, Mark        NaN   \n",
       "21            21  hconres115-114         Gabbard, Tulsi        NaN   \n",
       "22            22  hconres116-114          Ashford, Brad        NaN   \n",
       "23            23  hconres117-114          Barletta, Lou        NaN   \n",
       "24            24  hconres117-114          Carson, Andre        NaN   \n",
       "25            25   hconres12-114     Tiberi, Patrick J.        NaN   \n",
       "26            26  hconres120-114         King, Peter T.        NaN   \n",
       "27            27  hconres120-114        Hoyer, Steny H.        NaN   \n",
       "28            28  hconres120-114    Pascrell, Bill, Jr.        NaN   \n",
       "29            29  hconres120-114     Reichert, David G.        NaN   \n",
       "...          ...             ...                    ...        ...   \n",
       "8447        8447     hres935-114         Gabbard, Tulsi        NaN   \n",
       "8448        8448     hres935-114             Young, Don        NaN   \n",
       "8449        8449     hres936-114           Welch, Peter        NaN   \n",
       "8450        8450     hres937-114         Byrne, Bradley        NaN   \n",
       "8451        8451     hres938-114            Tonko, Paul        NaN   \n",
       "8452        8452     hres938-114     McKinley, David B.        NaN   \n",
       "8453        8453     hres939-114           Welch, Peter        NaN   \n",
       "8454        8454     hres940-114           Foster, Bill        NaN   \n",
       "8455        8455     hres940-114           Takano, Mark        NaN   \n",
       "8456        8456     hres941-114         Cardenas, Tony        NaN   \n",
       "8457        8457     hres941-114           Lofgren, Zoe        NaN   \n",
       "8458        8458     hres943-114         Gabbard, Tulsi        NaN   \n",
       "8459        8459     hres944-114         Byrne, Bradley        NaN   \n",
       "8460        8460     hres945-114        McCarthy, Kevin        NaN   \n",
       "8461        8461     hres946-114     Conyers, John, Jr.        NaN   \n",
       "8462        8462     hres946-114        Dingell, Debbie        NaN   \n",
       "8463        8463     hres946-114      Kildee, Daniel T.        NaN   \n",
       "8464        8464     hres946-114    Lawrence, Brenda L.        NaN   \n",
       "8465        8465     hres946-114       Levin, Sander M.        NaN   \n",
       "8466        8466     hres947-114    Richmond, Cedric L.        NaN   \n",
       "8467        8467     hres949-114           Woodall, Rob        NaN   \n",
       "8468        8468      hres95-114           Vargas, Juan        NaN   \n",
       "8469        8469      hres95-114      Honda, Michael M.        NaN   \n",
       "8470        8470      hres95-114       Peters, Scott H.        NaN   \n",
       "8471        8471     hres950-114         Garrett, Scott        NaN   \n",
       "8472        8472     hres951-114       Royce, Edward R.        NaN   \n",
       "8473        8473      hres96-114   Wilson, Frederica S.        NaN   \n",
       "8474        8474      hres97-114        Chaffetz, Jason        NaN   \n",
       "8475        8475      hres98-114        Hensarling, Jeb        NaN   \n",
       "8476        8476      hres99-114    Thompson, Bennie G.        NaN   \n",
       "\n",
       "     bioguide_id state  district  sponsor  original_cosponsor date_signed  \\\n",
       "0        S000250    TX      32.0     True               False  2015-01-06   \n",
       "1        F000043    PA       2.0     True               False  2015-01-27   \n",
       "2        L000263    MI       9.0    False               False  2015-02-13   \n",
       "3        V000130    CA      51.0    False                True  2015-01-27   \n",
       "4        M001165    CA      23.0     True               False  2015-12-15   \n",
       "5        E000291    NC       2.0     True               False  2015-12-17   \n",
       "6        B001274    AL       5.0    False                True  2015-12-17   \n",
       "7        C001048    TX       7.0    False                True  2015-12-17   \n",
       "8        P000591    GA       6.0     True               False  2015-12-18   \n",
       "9        C001053    OK       4.0     True               False  2016-01-11   \n",
       "10       G000552    TX       1.0     True               False  2016-01-13   \n",
       "11       S001185    AL       7.0     True               False  2016-02-01   \n",
       "12       Q000023    IL       5.0     True               False  2015-01-28   \n",
       "13       H001055    NV       3.0    False                True  2015-01-28   \n",
       "14       L000551    CA      13.0    False                True  2015-01-28   \n",
       "15       M001181    PA       7.0     True               False  2016-02-02   \n",
       "16       D000610    FL      21.0    False                True  2016-02-02   \n",
       "17       I000057    NY       3.0    False                True  2016-02-02   \n",
       "18       P000599    FL       8.0     True               False  2016-02-09   \n",
       "19       P000596    PR       0.0    False                True  2016-02-09   \n",
       "20       T000473    HI       1.0     True               False  2016-02-11   \n",
       "21       G000571    HI       2.0    False                True  2016-02-11   \n",
       "22       A000373    NE       2.0     True               False  2016-02-12   \n",
       "23       B001269    PA      11.0     True               False  2016-02-23   \n",
       "24       C001072    IN       7.0    False                True  2016-02-23   \n",
       "25       T000462    OH      12.0     True               False  2015-01-30   \n",
       "26       K000210    NY       2.0     True               False  2016-02-26   \n",
       "27       H000874    MD       5.0    False                True  2016-02-26   \n",
       "28       P000096    NJ       9.0    False                True  2016-02-26   \n",
       "29       R000578    WA       8.0    False                True  2016-02-26   \n",
       "...          ...   ...       ...      ...                 ...         ...   \n",
       "8447     G000571    HI       2.0     True               False  2016-11-29   \n",
       "8448     Y000033    AK       0.0    False                True  2016-11-29   \n",
       "8449     W000800    VT       0.0     True               False  2016-11-29   \n",
       "8450     B001289    AL       1.0     True               False  2016-11-30   \n",
       "8451     T000469    NY      20.0     True               False  2016-11-30   \n",
       "8452     M001180    WV       1.0    False                True  2016-11-30   \n",
       "8453     W000800    VT       0.0     True               False  2016-11-30   \n",
       "8454     F000454    IL      11.0     True               False  2016-12-02   \n",
       "8455     T000472    CA      41.0    False                True  2016-12-02   \n",
       "8456     C001097    CA      29.0     True               False  2016-12-05   \n",
       "8457     L000397    CA      19.0    False                True  2016-12-05   \n",
       "8458     G000571    HI       2.0     True               False  2016-12-05   \n",
       "8459     B001289    AL       1.0     True               False  2016-12-06   \n",
       "8460     M001165    CA      23.0     True               False  2016-12-06   \n",
       "8461     C000714    MI      13.0     True               False  2016-12-06   \n",
       "8462     D000624    MI      12.0    False                True  2016-12-06   \n",
       "8463     K000380    MI       5.0    False                True  2016-12-06   \n",
       "8464     L000581    MI      14.0    False                True  2016-12-06   \n",
       "8465     L000263    MI       9.0    False                True  2016-12-06   \n",
       "8466     R000588    LA       2.0     True               False  2016-12-06   \n",
       "8467     W000810    GA       7.0     True               False  2016-12-07   \n",
       "8468     V000130    CA      51.0     True               False  2015-02-05   \n",
       "8469     H001034    CA      17.0    False               False  2015-04-23   \n",
       "8470     P000608    CA      52.0    False               False  2015-04-23   \n",
       "8471     G000548    NJ       5.0     True               False  2016-12-07   \n",
       "8472     R000487    CA      39.0     True               False  2016-12-08   \n",
       "8473     W000808    FL      24.0     True               False  2015-02-05   \n",
       "8474     C001076    UT       3.0     True               False  2015-02-09   \n",
       "8475     H001036    TX       5.0     True               False  2015-02-10   \n",
       "8476     T000193    MS       2.0     True               False  2015-02-10   \n",
       "\n",
       "     date_withdrawn  \n",
       "0               NaN  \n",
       "1               NaN  \n",
       "2               NaN  \n",
       "3               NaN  \n",
       "4               NaN  \n",
       "5               NaN  \n",
       "6               NaN  \n",
       "7               NaN  \n",
       "8               NaN  \n",
       "9               NaN  \n",
       "10              NaN  \n",
       "11              NaN  \n",
       "12              NaN  \n",
       "13              NaN  \n",
       "14              NaN  \n",
       "15              NaN  \n",
       "16              NaN  \n",
       "17              NaN  \n",
       "18              NaN  \n",
       "19              NaN  \n",
       "20              NaN  \n",
       "21              NaN  \n",
       "22              NaN  \n",
       "23              NaN  \n",
       "24              NaN  \n",
       "25              NaN  \n",
       "26              NaN  \n",
       "27              NaN  \n",
       "28              NaN  \n",
       "29              NaN  \n",
       "...             ...  \n",
       "8447            NaN  \n",
       "8448            NaN  \n",
       "8449            NaN  \n",
       "8450            NaN  \n",
       "8451            NaN  \n",
       "8452            NaN  \n",
       "8453            NaN  \n",
       "8454            NaN  \n",
       "8455            NaN  \n",
       "8456            NaN  \n",
       "8457            NaN  \n",
       "8458            NaN  \n",
       "8459            NaN  \n",
       "8460            NaN  \n",
       "8461            NaN  \n",
       "8462            NaN  \n",
       "8463            NaN  \n",
       "8464            NaN  \n",
       "8465            NaN  \n",
       "8466            NaN  \n",
       "8467            NaN  \n",
       "8468            NaN  \n",
       "8469            NaN  \n",
       "8470            NaN  \n",
       "8471            NaN  \n",
       "8472            NaN  \n",
       "8473            NaN  \n",
       "8474            NaN  \n",
       "8475            NaN  \n",
       "8476            NaN  \n",
       "\n",
       "[8477 rows x 11 columns]"
      ]
     },
     "execution_count": 356,
     "metadata": {},
     "output_type": "execute_result"
    }
   ],
   "source": [
    "congress = \"114\"\n",
    "t = 5\n",
    "# congress_df = pd.read_csv(\"data/govtrack_cosponsor_data/govtrack_cosponsor_data_\" + congress + \"_congress.csv\")\n",
    "# congress_df = below_threshold_df(congress_df, 5)\n",
    "congress_df = pd.read_csv(\"data/below_\" + str(t) + \"_cosponsors/congress_\" + str(congress) + \"_house.csv\")\n",
    "congress_df"
   ]
  },
  {
   "cell_type": "code",
   "execution_count": 333,
   "metadata": {},
   "outputs": [
    {
     "data": {
      "text/plain": [
       "(5183, 11)"
      ]
     },
     "execution_count": 333,
     "metadata": {},
     "output_type": "execute_result"
    }
   ],
   "source": [
    "congress_df.shape"
   ]
  },
  {
   "cell_type": "markdown",
   "metadata": {},
   "source": [
    "## Histogram of number of cosponsors"
   ]
  },
  {
   "cell_type": "code",
   "execution_count": 30,
   "metadata": {
    "collapsed": true
   },
   "outputs": [],
   "source": [
    "def plot_histogram(congress_df, suppress_plot=False):\n",
    "    num_of_cosponsors_per_bill = {}\n",
    "    for bill in congress_df.bill_number.unique():\n",
    "        num_of_cosponsors_per_bill[bill] = 0\n",
    "    for bill in congress_df.bill_number:\n",
    "        num_of_cosponsors_per_bill[bill] += 1\n",
    "    max_cosponsors = max(num_of_cosponsors_per_bill.values())\n",
    "    counts_of_bills_with_x_cosponsors = np.zeros(max_cosponsors + 1)\n",
    "    for i in num_of_cosponsors_per_bill.values():\n",
    "        counts_of_bills_with_x_cosponsors[i] += 1\n",
    "    if not suppress_plot:\n",
    "        plt.plot(range(2,50), counts_of_bills_with_x_cosponsors[2:50])\n",
    "        plt.xlabel(\"Number of Cosponsors\")\n",
    "        plt.ylabel(\"Number of Bills\")\n",
    "        plt.show()\n",
    "    return counts_of_bills_with_x_cosponsors.astype(int)"
   ]
  },
  {
   "cell_type": "code",
   "execution_count": 31,
   "metadata": {},
   "outputs": [
    {
     "data": {
      "image/png": "[encoded data removed]",
      "text/plain": [
       "<matplotlib.figure.Figure at 0x110b3b780>"
      ]
     },
     "metadata": {},
     "output_type": "display_data"
    },
    {
     "data": {
      "text/plain": [
       "array([    0, 17752,  2347,   765,   597,   409,   319,   281,   237,\n",
       "         236,   236,   208,   187,   170,   198,   209,   168,   138,\n",
       "         119,   119,   120,   116,   104,   115,   181,   748,    21,\n",
       "           7,    12,     9,     8,     4,     8,     5,     8,     4,\n",
       "           6,     3,     3,     3,     3,     0,     5,     0,     1,\n",
       "           2,     0,     1,     2,     0,     5,     1,     2,     1,\n",
       "           1,     2,     0,     0,     1,     2,     1,     1,     1,\n",
       "           1,     1,     0,     0,     1,     1,     1,     2,     1,\n",
       "           0,     0,     0,     1,     0,     0,     0,     0,     0,\n",
       "           0,     0,     0,     0,     0,     0,     0,     0,     0,\n",
       "           0,     0,     0,     0,     0,     0,     0,     0,     0,\n",
       "           0,     1])"
      ]
     },
     "execution_count": 31,
     "metadata": {},
     "output_type": "execute_result"
    }
   ],
   "source": [
    "plot_histogram(congress_df)"
   ]
  },
  {
   "cell_type": "markdown",
   "metadata": {},
   "source": [
    "At what number of cosponsors are 90% bills included in that or less?"
   ]
  },
  {
   "cell_type": "code",
   "execution_count": 175,
   "metadata": {
    "collapsed": true
   },
   "outputs": [],
   "source": [
    "def plot_fraction_of_bills_by_cosponsors():\n",
    "    for i in range(93, 115):\n",
    "        df = pd.read_csv(\"data/govtrack_cosponsor_data/govtrack_cosponsor_data_\" + str(i) + \"_congress.csv\")\n",
    "        cosponsors_for_threshold = []\n",
    "        threshold_range = np.arange(.5, 1, .05)\n",
    "        for t in threshold_range:\n",
    "            cosponsors_for_threshold.append(find_num_of_cosponsors(t * df.bill_number.unique().shape[0], plot_histogram(df, True)))\n",
    "        plt.plot(threshold_range, cosponsors_for_threshold, label=i)\n",
    "    plt.xlabel(\"Fraction of Bills\")\n",
    "    plt.ylabel(\"Number of Cosponsors\")\n",
    "    plt.title(\"Fraction of Bills by Cosponsor Number\")\n",
    "#     plt.legend()\n",
    "    plt.savefig(\"plots/fraction_of_bills_by_cosponsors\")\n",
    "    plt.show()"
   ]
  },
  {
   "cell_type": "code",
   "execution_count": 176,
   "metadata": {},
   "outputs": [
    {
     "name": "stderr",
     "output_type": "stream",
     "text": [
      "/Users/emmaling/anaconda3/lib/python3.6/site-packages/IPython/core/interactiveshell.py:2808: DtypeWarning: Columns (9) have mixed types. Specify dtype option on import or set low_memory=False.\n",
      "  if self.run_code(code, result):\n"
     ]
    },
    {
     "data": {
      "image/png": "[encoded data removed]",
      "text/plain": [
       "<matplotlib.figure.Figure at 0x1523f43908>"
      ]
     },
     "metadata": {},
     "output_type": "display_data"
    }
   ],
   "source": [
    "plot_fraction_of_bills_by_cosponsors()"
   ]
  },
  {
   "cell_type": "code",
   "execution_count": 33,
   "metadata": {},
   "outputs": [
    {
     "data": {
      "text/plain": [
       "20977.600000000002"
      ]
     },
     "execution_count": 33,
     "metadata": {},
     "output_type": "execute_result"
    }
   ],
   "source": [
    "bill_threshold = .8 * congress_df.bill_number.unique().shape[0]\n",
    "bill_threshold"
   ]
  },
  {
   "cell_type": "code",
   "execution_count": 27,
   "metadata": {
    "collapsed": true
   },
   "outputs": [],
   "source": [
    "def find_num_of_cosponsors(t, arr): \n",
    "    i = 0\n",
    "    while t > 0:\n",
    "        t -= arr[i]\n",
    "        i += 1\n",
    "    return i"
   ]
  },
  {
   "cell_type": "code",
   "execution_count": 34,
   "metadata": {},
   "outputs": [
    {
     "data": {
      "text/plain": [
       "5"
      ]
     },
     "execution_count": 34,
     "metadata": {},
     "output_type": "execute_result"
    }
   ],
   "source": [
    "find_num_of_cosponsors(bill_threshold, plot_histogram(congress_df, True))"
   ]
  },
  {
   "cell_type": "markdown",
   "metadata": {},
   "source": [
    "Want a dictionary `{person: [cosponsors in past]}`, note the graph does not include legislators who have not sponsored or cosponsored any bills yet - should do intersection of `legislators_93` and `legislators_94` later."
   ]
  },
  {
   "cell_type": "code",
   "execution_count": 53,
   "metadata": {},
   "outputs": [
    {
     "name": "stdout",
     "output_type": "stream",
     "text": [
      "547\n",
      "547\n"
     ]
    }
   ],
   "source": [
    "print(len(legislators_93))\n",
    "print(len(thomas_ids))"
   ]
  },
  {
   "cell_type": "markdown",
   "metadata": {},
   "source": [
    "# Get party affiliations"
   ]
  },
  {
   "cell_type": "code",
   "execution_count": 6,
   "metadata": {
    "collapsed": true
   },
   "outputs": [],
   "source": [
    "def get_last_name(name):\n",
    "    return name['name'].split(\",\")[0].split(\" \")[0].lower(), name['party']"
   ]
  },
  {
   "cell_type": "code",
   "execution_count": 7,
   "metadata": {
    "collapsed": true
   },
   "outputs": [],
   "source": [
    "def get_party_affiliations():\n",
    "    house_affil = pd.read_csv(\"data/party_affiliation/house.csv\")\n",
    "    senate_affil = pd.read_csv(\"data/party_affiliation/senate.csv\")\n",
    "    party_affiliations = house_affil.append(senate_affil)\n",
    "    party_affiliations = party_affiliations.apply(get_last_name, axis=1)\n",
    "    party_affil_dict = {}\n",
    "    for name, party in party_affiliations.unique():\n",
    "        if party == 100:\n",
    "            party_affil_dict[name] = \"Democrat\"\n",
    "        elif party == 200:\n",
    "            party_affil_dict[name] = \"Republican\"\n",
    "    return party_affil_dict"
   ]
  },
  {
   "cell_type": "markdown",
   "metadata": {},
   "source": [
    "# Make graph from cosponsorship data"
   ]
  },
  {
   "cell_type": "code",
   "execution_count": 8,
   "metadata": {
    "collapsed": true
   },
   "outputs": [],
   "source": [
    "def get_edges_from_lst(lst):\n",
    "    edges = []\n",
    "    for x in lst:\n",
    "        for y in lst:\n",
    "            if x != y and (x, y) not in edges and (y, x) not in edges:\n",
    "                edges.append((x, y))\n",
    "    return edges"
   ]
  },
  {
   "cell_type": "code",
   "execution_count": 9,
   "metadata": {
    "collapsed": true
   },
   "outputs": [],
   "source": [
    "def last_name(name):\n",
    "    return name.split(\",\")[0].split(\" \")[0].lower()"
   ]
  },
  {
   "cell_type": "code",
   "execution_count": 238,
   "metadata": {
    "collapsed": true
   },
   "outputs": [],
   "source": [
    "def make_graph(congress_df, party_affil_dict, date=None):\n",
    "    g = nx.Graph()\n",
    "    if date:\n",
    "        congress_df = congress_df[congress_df.date_signed < date]\n",
    "    for index, row in congress_df.iterrows():\n",
    "        # Add edges from cosponsors to sponsors\n",
    "        if not row.sponsor:\n",
    "            sponsor = congress_df[(congress_df[\"bill_number\"] == row[\"bill_number\"]) & (congress_df[\"sponsor\"] == True)].name\n",
    "            if not sponsor.empty:\n",
    "                sponsor_name = sponsor.values[0]\n",
    "                if last_name(row['name']) in party_affil_dict.keys() and last_name(sponsor_name) in party_affil_dict.keys():\n",
    "                    g.add_edge(row['name'], sponsor_name)\n",
    "    return g"
   ]
  },
  {
   "cell_type": "code",
   "execution_count": 129,
   "metadata": {
    "collapsed": true
   },
   "outputs": [],
   "source": [
    "def get_bichromatic_ratio(g, party_affil_dict):\n",
    "    bichromatic = 0\n",
    "    for (x,y) in g.edges():\n",
    "        if party_affil_dict[last_name(x)] != party_affil_dict[last_name(y)]:\n",
    "            bichromatic += 1\n",
    "    if g.number_of_edges() > 0:\n",
    "        return bichromatic / g.number_of_edges()\n",
    "    else:\n",
    "        return 0"
   ]
  },
  {
   "cell_type": "code",
   "execution_count": 12,
   "metadata": {
    "collapsed": true
   },
   "outputs": [],
   "source": [
    "party_affil_dict = get_party_affiliations()"
   ]
  },
  {
   "cell_type": "code",
   "execution_count": 41,
   "metadata": {},
   "outputs": [
    {
     "name": "stdout",
     "output_type": "stream",
     "text": [
      "534\n",
      "4489\n"
     ]
    }
   ],
   "source": [
    "G_baseline = make_graph(congress_df, party_affil_dict)\n",
    "print(G_baseline.number_of_nodes())\n",
    "print(G_baseline.number_of_edges())"
   ]
  },
  {
   "cell_type": "code",
   "execution_count": 99,
   "metadata": {},
   "outputs": [
    {
     "data": {
      "text/plain": [
       "(0, 10)"
      ]
     },
     "execution_count": 99,
     "metadata": {},
     "output_type": "execute_result"
    }
   ],
   "source": [
    "congress_df[(congress_df.date_signed > date) & (congress_df.sponsor == False)].shape"
   ]
  },
  {
   "cell_type": "code",
   "execution_count": 36,
   "metadata": {},
   "outputs": [
    {
     "data": {
      "text/plain": [
       "(21870, 10)"
      ]
     },
     "execution_count": 36,
     "metadata": {},
     "output_type": "execute_result"
    }
   ],
   "source": [
    "congress_df[congress_df.sponsor == True].shape"
   ]
  },
  {
   "cell_type": "code",
   "execution_count": 133,
   "metadata": {
    "collapsed": true
   },
   "outputs": [],
   "source": [
    "date = str(1787 + int(congress) * 2) + \"-01-01\"\n",
    "G = make_graph(congress_df, party_affil_dict, date)"
   ]
  },
  {
   "cell_type": "code",
   "execution_count": 43,
   "metadata": {
    "collapsed": true
   },
   "outputs": [],
   "source": [
    "# plt.subplot(121)\n",
    "nx.draw(G, with_labels=True, font_weight='bold')\n",
    "# plt.subplot(122)\n",
    "# nx.draw_shell(G, nlist=[range(5, 10), range(5)], with_labels=True, font_weight='bold')\n",
    "plt.show()"
   ]
  },
  {
   "cell_type": "code",
   "execution_count": 88,
   "metadata": {
    "scrolled": false
   },
   "outputs": [
    {
     "data": {
      "text/plain": [
       "0"
      ]
     },
     "execution_count": 88,
     "metadata": {},
     "output_type": "execute_result"
    }
   ],
   "source": [
    "G.number_of_nodes()"
   ]
  },
  {
   "cell_type": "code",
   "execution_count": 89,
   "metadata": {
    "scrolled": true
   },
   "outputs": [
    {
     "data": {
      "text/plain": [
       "0"
      ]
     },
     "execution_count": 89,
     "metadata": {},
     "output_type": "execute_result"
    }
   ],
   "source": [
    "G.number_of_edges()"
   ]
  },
  {
   "cell_type": "code",
   "execution_count": 186,
   "metadata": {
    "collapsed": true
   },
   "outputs": [],
   "source": [
    "def get_counts_over_time(g, congress_df, party_affil_dict, date):\n",
    "    \"\"\"Output b, f(w), f(d)\"\"\"\n",
    "    congress_df = congress_df.sort_values(\"date_signed\")\n",
    "    w, w_b, d, d_b = 0, 0, 0, 0\n",
    "    w_lst, w_b_lst, b_lst, d_lst, d_b_lst = [], [], [0], [], []\n",
    "    last_date = date\n",
    "    for index, row in congress_df[congress_df['date_signed'] >= date].iterrows():\n",
    "        if not row.sponsor:\n",
    "            sponsor = congress_df[(congress_df[\"bill_number\"] == row[\"bill_number\"]) & (congress_df[\"sponsor\"] == True)].name\n",
    "            if not sponsor.empty:\n",
    "                sponsor_name = sponsor.values[0]\n",
    "                if last_name(row['name']) in party_affil_dict.keys() and last_name(sponsor_name) in party_affil_dict.keys():\n",
    "                    g.add_nodes_from([row['name'], sponsor_name])\n",
    "                    if not g.has_edge(row['name'], sponsor_name):\n",
    "                        if set(g.neighbors(row['name'])).intersection(set(g.neighbors(sponsor_name))):\n",
    "                            if party_affil_dict[last_name(row['name'])] != party_affil_dict[last_name(sponsor_name)]:\n",
    "                                w_b += 1\n",
    "                            w += 1\n",
    "                        else:\n",
    "                            if party_affil_dict[last_name(row['name'])] != party_affil_dict[last_name(sponsor_name)]:\n",
    "                                d_b += 1\n",
    "                            d += 1\n",
    "                        g.add_edge(row['name'], sponsor_name)\n",
    "        this_date = row.date_signed\n",
    "        if this_date != last_date:\n",
    "            w_b_lst.append(w_b)\n",
    "            w_lst.append(w)\n",
    "            b_lst.append(get_bichromatic_ratio(g, party_affil_dict))\n",
    "            d_b_lst.append(d_b)\n",
    "            d_lst.append(d)\n",
    "            last_date = this_date\n",
    "    w_b_lst.append(w_b)\n",
    "    w_lst.append(w)\n",
    "    b_lst.append(get_bichromatic_ratio(g, party_affil_dict))\n",
    "    d_b_lst.append(d_b)\n",
    "    d_lst.append(d)\n",
    "    return np.array(w_b_lst) , np.array(w_lst), np.array(b_lst[:-1]), np.array(d_b_lst), np.array(d_lst)"
   ]
  },
  {
   "cell_type": "code",
   "execution_count": 325,
   "metadata": {
    "collapsed": true
   },
   "outputs": [],
   "source": [
    "def plot_bichromatic_ratios_over_time(bichromatic_ratios):\n",
    "    start_day = 100\n",
    "    plt.plot(range(start_day, len(bichromatic_ratios)), bichromatic_ratios[start_day:])\n",
    "    plt.xlabel(\"Time\")\n",
    "    plt.ylabel(\"Fraction of Bichromatic Edges\")\n",
    "    plt.title(\"Fraction of Bichromatic Edges Added Via Triadic Closure (House \" + str(congress) + \")\")\n",
    "    plt.savefig(\"plots/bichromatic_closure_house_\" + congress + \"_start\" + str(start_day))\n",
    "    plt.show()"
   ]
  },
  {
   "cell_type": "code",
   "execution_count": 336,
   "metadata": {
    "collapsed": true
   },
   "outputs": [],
   "source": [
    "def plot_bichromatic_ratio_f_diff_over_time(b, f):\n",
    "    start_day = 100\n",
    "    plt.plot(range(start_day, len(b)), b[start_day:] - f[start_day:])\n",
    "    plt.xlabel(\"Time\")\n",
    "    plt.ylabel(\"b_(t-1) - f_t\")\n",
    "    plt.title(\"b_(t-1) - f_t, House \" + str(congress))\n",
    "    plt.savefig(\"plots/b_f_diff_house_\" + congress + \"_start\" + str(start_day))\n",
    "    plt.show()"
   ]
  },
  {
   "cell_type": "code",
   "execution_count": 330,
   "metadata": {
    "collapsed": true
   },
   "outputs": [],
   "source": [
    "def plot_w_d_ratios_over_time(f_w, f_d):\n",
    "    start_day = 100\n",
    "    plt.plot(range(start_day, len(f_w)), f_w[start_day:] / f_d[start_day:])\n",
    "    plt.xlabel(\"Time\")\n",
    "    plt.ylabel(\"f(w) / f(d)\")\n",
    "    plt.title(\"f(w) / f(d) (House \" + str(congress) + \")\")\n",
    "    plt.savefig(\"plots/w_d_ratio_house_\" + congress + \"_start\" + str(start_day))\n",
    "    plt.show()"
   ]
  },
  {
   "cell_type": "code",
   "execution_count": 357,
   "metadata": {},
   "outputs": [
    {
     "name": "stderr",
     "output_type": "stream",
     "text": [
      "/Users/emmaling/anaconda3/lib/python3.6/site-packages/ipykernel_launcher.py:4: RuntimeWarning: invalid value encountered in true_divide\n",
      "  after removing the cwd from sys.path.\n"
     ]
    },
    {
     "data": {
      "image/png": "[encoded data removed]",
      "text/plain": [
       "<matplotlib.figure.Figure at 0x151f73b828>"
      ]
     },
     "metadata": {},
     "output_type": "display_data"
    },
    {
     "name": "stderr",
     "output_type": "stream",
     "text": [
      "/Users/emmaling/anaconda3/lib/python3.6/site-packages/ipykernel_launcher.py:5: RuntimeWarning: invalid value encountered in true_divide\n",
      "  \"\"\"\n"
     ]
    },
    {
     "data": {
      "image/png": "[encoded data removed]",
      "text/plain": [
       "<matplotlib.figure.Figure at 0x151a1d1128>"
      ]
     },
     "metadata": {},
     "output_type": "display_data"
    },
    {
     "name": "stderr",
     "output_type": "stream",
     "text": [
      "/Users/emmaling/anaconda3/lib/python3.6/site-packages/ipykernel_launcher.py:6: RuntimeWarning: invalid value encountered in true_divide\n",
      "  \n"
     ]
    },
    {
     "data": {
      "image/png": "[encoded data removed]",
      "text/plain": [
       "<matplotlib.figure.Figure at 0x151ec0ba20>"
      ]
     },
     "metadata": {},
     "output_type": "display_data"
    }
   ],
   "source": [
    "date = str(1787 + int(congress) * 2) + \"-01-01\"\n",
    "G = make_graph(congress_df, party_affil_dict, date)\n",
    "bichromatic_ratios = get_counts_over_time(G, congress_df, party_affil_dict, date)\n",
    "plot_bichromatic_ratios_over_time(bichromatic_ratios[0] / bichromatic_ratios[1])\n",
    "plot_bichromatic_ratio_f_diff_over_time(bichromatic_ratios[2], bichromatic_ratios[0] / bichromatic_ratios[1])\n",
    "plot_w_d_ratios_over_time(bichromatic_ratios[0] / bichromatic_ratios[1], bichromatic_ratios[3] / bichromatic_ratios[4])"
   ]
  },
  {
   "cell_type": "code",
   "execution_count": 101,
   "metadata": {
    "collapsed": true
   },
   "outputs": [],
   "source": [
    "def close_wedges_simultaneously(g, n):\n",
    "    edges_to_add = []\n",
    "    while (len(edges_to_add) < n):\n",
    "        node = list(g.nodes())[np.random.randint(0, g.number_of_nodes())]\n",
    "        friends = set(nx.all_neighbors(g, node))\n",
    "        if len(friends) > 0:\n",
    "            friend = random.sample(friends, 1)[0]\n",
    "            new_possible_friends = set(nx.all_neighbors(g, friend)).difference(set(nx.all_neighbors(g, node)))\n",
    "            if len(new_possible_friends) > 0:\n",
    "                new_friend = random.sample(new_possible_friends, 1)[0]\n",
    "                edges_to_add.append((node, new_friend))\n",
    "    g.add_edges_from(edges_to_add)\n",
    "    return g"
   ]
  },
  {
   "cell_type": "code",
   "execution_count": 108,
   "metadata": {
    "collapsed": true
   },
   "outputs": [],
   "source": [
    "g_closed = close_wedges_simultaneously(G, 1000)"
   ]
  },
  {
   "cell_type": "code",
   "execution_count": 126,
   "metadata": {},
   "outputs": [
    {
     "data": {
      "text/plain": [
       "0.46880785292978"
      ]
     },
     "execution_count": 126,
     "metadata": {},
     "output_type": "execute_result"
    }
   ],
   "source": [
    "get_bichromatic_ratio(g_closed, party_affil_dict)"
   ]
  },
  {
   "cell_type": "code",
   "execution_count": 137,
   "metadata": {
    "collapsed": true
   },
   "outputs": [],
   "source": [
    "bichromatic_ratios = [get_bichromatic_ratio(G, party_affil_dict)]\n",
    "for _ in range(10):\n",
    "    bichromatic_ratios.append(get_bichromatic_ratio(close_wedges_simultaneously(G, 100), party_affil_dict))"
   ]
  },
  {
   "cell_type": "code",
   "execution_count": 138,
   "metadata": {},
   "outputs": [
    {
     "data": {
      "text/plain": [
       "[0.41429543907420013,\n",
       " 0.41490933512424444,\n",
       " 0.4148442677269715,\n",
       " 0.41588173731030875,\n",
       " 0.4161931818181818,\n",
       " 0.41675165731769503,\n",
       " 0.41734860883797054,\n",
       " 0.41787890090762153,\n",
       " 0.41827336362519957,\n",
       " 0.4190222006551013,\n",
       " 0.4183147548843342]"
      ]
     },
     "execution_count": 138,
     "metadata": {},
     "output_type": "execute_result"
    }
   ],
   "source": [
    "bichromatic_ratios"
   ]
  },
  {
   "cell_type": "code",
   "execution_count": 143,
   "metadata": {},
   "outputs": [
    {
     "data": {
      "image/png": "[encoded data removed]",
      "text/plain": [
       "<matplotlib.figure.Figure at 0x15138bfdd8>"
      ]
     },
     "metadata": {},
     "output_type": "display_data"
    }
   ],
   "source": [
    "plt.plot(range(0, 1100, 100), bichromatic_ratios)\n",
    "plt.xlabel(\"Number of Wedges Closed\")\n",
    "plt.ylabel(\"Bichromatic Ratio\")\n",
    "plt.show()"
   ]
  },
  {
   "cell_type": "code",
   "execution_count": 275,
   "metadata": {
    "collapsed": true
   },
   "outputs": [],
   "source": [
    "def get_centrality_types():\n",
    "    return {\n",
    "        \"Degree\": centrality.degree_centrality,\n",
    "        \"Eigenvector\": centrality.eigenvector_centrality,\n",
    "#         \"Katz\": centrality.katz_centrality,\n",
    "        \"Closeness\": centrality.closeness_centrality,\n",
    "#         \"Flow-Closeness\": centrality.current_flow_closeness_centrality,\n",
    "        \"Betweenness\": centrality.betweenness_centrality,\n",
    "#         \"Flow-Betweenness\": centrality.current_flow_betweenness_centrality\n",
    "    }"
   ]
  },
  {
   "cell_type": "code",
   "execution_count": 276,
   "metadata": {
    "collapsed": true
   },
   "outputs": [],
   "source": [
    "def get_majority(G, party_affil_dict):\n",
    "    count = 0\n",
    "    for node in G.nodes():\n",
    "        if party_affil_dict[last_name(node)] == \"Democrat\":\n",
    "            count += 1\n",
    "        elif party_affil_dict[last_name(node)] == \"Republican\":\n",
    "            count -= 1\n",
    "    if count > 0:\n",
    "        return \"Democrat\"\n",
    "    else:\n",
    "        return \"Republican\""
   ]
  },
  {
   "cell_type": "code",
   "execution_count": 277,
   "metadata": {},
   "outputs": [
    {
     "data": {
      "text/plain": [
       "'Republican'"
      ]
     },
     "execution_count": 277,
     "metadata": {},
     "output_type": "execute_result"
    }
   ],
   "source": [
    "get_majority(G, party_affil_dict)"
   ]
  },
  {
   "cell_type": "code",
   "execution_count": 316,
   "metadata": {},
   "outputs": [
    {
     "name": "stdout",
     "output_type": "stream",
     "text": [
      "directory data/below_5_cosponsors already exists\n",
      "directory data/below_5_cosponsors already exists\n",
      "directory data/below_5_cosponsors already exists\n",
      "directory data/below_5_cosponsors already exists\n"
     ]
    },
    {
     "name": "stderr",
     "output_type": "stream",
     "text": [
      "/Users/emmaling/anaconda3/lib/python3.6/site-packages/IPython/core/interactiveshell.py:2698: DtypeWarning: Columns (9) have mixed types. Specify dtype option on import or set low_memory=False.\n",
      "  interactivity=interactivity, compiler=compiler, result=result)\n"
     ]
    },
    {
     "name": "stdout",
     "output_type": "stream",
     "text": [
      "directory data/below_5_cosponsors already exists\n",
      "directory data/below_5_cosponsors already exists\n",
      "directory data/below_5_cosponsors already exists\n",
      "directory data/below_5_cosponsors already exists\n",
      "directory data/below_5_cosponsors already exists\n",
      "directory data/below_5_cosponsors already exists\n",
      "directory data/below_5_cosponsors already exists\n",
      "directory data/below_5_cosponsors already exists\n",
      "directory data/below_5_cosponsors already exists\n",
      "directory data/below_5_cosponsors already exists\n",
      "directory data/below_5_cosponsors already exists\n",
      "directory data/below_5_cosponsors already exists\n",
      "directory data/below_5_cosponsors already exists\n",
      "directory data/below_5_cosponsors already exists\n",
      "directory data/below_5_cosponsors already exists\n",
      "directory data/below_5_cosponsors already exists\n",
      "directory data/below_5_cosponsors already exists\n",
      "directory data/below_5_cosponsors already exists\n"
     ]
    }
   ],
   "source": [
    "t = 5\n",
    "for congress in range(93, 115):\n",
    "    congress_df = pd.read_csv(\"data/govtrack_cosponsor_data/govtrack_cosponsor_data_\" + str(congress) + \"_congress.csv\")\n",
    "    congress_df = congress_df[congress_df.district.notnull()]\n",
    "    congress_df = below_threshold_df(congress_df, t)\n",
    "    try:\n",
    "        os.mkdir(\"data/below_\" + str(t) + \"_cosponsors\")\n",
    "    except:\n",
    "        print(\"directory data/below_\" + str(t) + \"_cosponsors already exists\")\n",
    "    congress_df.to_csv(\"data/below_\" + str(t) + \"_cosponsors/congress_\" + str(congress) + \"_house.csv\")"
   ]
  },
  {
   "cell_type": "code",
   "execution_count": 317,
   "metadata": {},
   "outputs": [],
   "source": [
    "t = 5\n",
    "for congress in range(93, 115):\n",
    "    congress_df = pd.read_csv(\"data/below_\" + str(t) + \"_cosponsors/congress_\" + str(congress) + \"_house.csv\")\n",
    "    G = make_graph(congress_df, party_affil_dict)\n",
    "    write_gpickle(G, \"data/graphs/congress_\" + str(congress) + \"_below_\" + str(t) + \"_house.pkl\")"
   ]
  },
  {
   "cell_type": "code",
   "execution_count": 319,
   "metadata": {
    "collapsed": true
   },
   "outputs": [],
   "source": [
    "def ave_centrality(party_affil_dict, centrality_type):\n",
    "    majority_ratio, ave_maj_centrality, ave_min_centrality, maj_parties = [], [], [], []\n",
    "    t = 5\n",
    "    for congress in range(93, 115):\n",
    "        G = read_gpickle(\"data/graphs/congress_\" + str(congress) + \"_below_\" + str(t) + \"_house.pkl\")\n",
    "        maj_party = get_majority(G, party_affil_dict)\n",
    "        try:\n",
    "            centrality_dict = get_centrality_types()[centrality_type](G)\n",
    "            maj_parties.append(maj_party)\n",
    "            maj_centralities = []\n",
    "            min_centralities = []\n",
    "            for cosponsor in centrality_dict:\n",
    "                if party_affil_dict[last_name(cosponsor)] == maj_party:\n",
    "                    maj_centralities.append(centrality_dict[cosponsor])\n",
    "                else:\n",
    "                    min_centralities.append(centrality_dict[cosponsor])\n",
    "            ave_maj_centrality.append(np.average(maj_centralities))\n",
    "            ave_min_centrality.append(np.average(min_centralities))\n",
    "            majority_ratio.append(len(maj_centralities) / (len(maj_centralities) + len(min_centralities)))\n",
    "        except:\n",
    "            print(\"error on congress \" + str(congress))\n",
    "    return np.array(ave_maj_centrality), np.array(ave_min_centrality), np.array(majority_ratio), np.array(maj_parties)"
   ]
  },
  {
   "cell_type": "code",
   "execution_count": 302,
   "metadata": {},
   "outputs": [],
   "source": [
    "ave_centralities = ave_centrality(party_affil_dict, \"Degree\")"
   ]
  },
  {
   "cell_type": "code",
   "execution_count": 402,
   "metadata": {},
   "outputs": [
    {
     "data": {
      "text/plain": [
       "(array([ 0.03311314,  0.03617818,  0.03357553,  0.02085358,  0.02191215,\n",
       "         0.02055676,  0.02167819,  0.02213094,  0.02214675,  0.02253843,\n",
       "         0.02180503,  0.01892419,  0.02141375,  0.02379103,  0.0237736 ,\n",
       "         0.02618568,  0.02963108,  0.03080934,  0.04060919,  0.0357289 ,\n",
       "         0.03249604,  0.04143729]),\n",
       " array([ 0.02970607,  0.03554416,  0.03729034,  0.02436981,  0.02365333,\n",
       "         0.02296711,  0.02386175,  0.02266014,  0.02292335,  0.02457342,\n",
       "         0.02117945,  0.01833595,  0.02052885,  0.02401997,  0.02578147,\n",
       "         0.02802169,  0.03119013,  0.03671605,  0.03365602,  0.0295058 ,\n",
       "         0.03573732,  0.04237589]),\n",
       " array([ 0.53932584,  0.61495327,  0.6122449 ,  0.59022556,  0.53598485,\n",
       "         0.57438795,  0.55597723,  0.56190476,  0.58130841,  0.5891182 ,\n",
       "         0.56497175,  0.52975048,  0.50280374,  0.50844278,  0.50651769,\n",
       "         0.53195489,  0.54059406,  0.50638298,  0.52798054,  0.51506849,\n",
       "         0.50473186,  0.50530035]),\n",
       " array(['Democrat', 'Democrat', 'Democrat', 'Democrat', 'Democrat',\n",
       "        'Democrat', 'Democrat', 'Democrat', 'Democrat', 'Democrat',\n",
       "        'Democrat', 'Republican', 'Republican', 'Republican', 'Republican',\n",
       "        'Republican', 'Republican', 'Republican', 'Democrat', 'Democrat',\n",
       "        'Republican', 'Republican'],\n",
       "       dtype='<U10'))"
      ]
     },
     "execution_count": 402,
     "metadata": {},
     "output_type": "execute_result"
    }
   ],
   "source": [
    "ave_centralities"
   ]
  },
  {
   "cell_type": "code",
   "execution_count": 318,
   "metadata": {
    "collapsed": true
   },
   "outputs": [],
   "source": [
    "def plot_centralities(ave_centralities, centrality_type):\n",
    "    plt.scatter(ave_centralities[2], ave_centralities[0], label=\"majority\")\n",
    "    plt.scatter(ave_centralities[2], ave_centralities[1], label=\"minority\")\n",
    "    plt.xlabel(\"Majority Ratio\")\n",
    "    plt.ylabel(\"Average \" + centrality_type + \" Centrality\")\n",
    "    plt.legend()\n",
    "    plt.title(\"Average \" + centrality_type + \" Centrality of Majority and Minority in the House\")\n",
    "    plt.savefig(\"plots/\" + centrality_type + \"_centrality_houses\")\n",
    "    plt.show()"
   ]
  },
  {
   "cell_type": "code",
   "execution_count": 358,
   "metadata": {},
   "outputs": [
    {
     "data": {
      "image/png": "[encoded data removed]",
      "text/plain": [
       "<matplotlib.figure.Figure at 0x1083e6e10>"
      ]
     },
     "metadata": {},
     "output_type": "display_data"
    }
   ],
   "source": [
    "cent = \"Degree\"\n",
    "plot_centralities(ave_centrality(party_affil_dict, cent), cent)"
   ]
  },
  {
   "cell_type": "code",
   "execution_count": 396,
   "metadata": {
    "collapsed": true
   },
   "outputs": [],
   "source": [
    "def plot_centrality_diff(ave_centralities, centrality_type):\n",
    "    plt.scatter(ave_centralities[2][ave_centralities[3]=='Democrat'], ave_centralities[0][ave_centralities[3]=='Democrat'] - ave_centralities[1][ave_centralities[3]=='Democrat'], label=\"Democrat majority\")\n",
    "    plt.scatter(ave_centralities[2][ave_centralities[3]=='Republican'], ave_centralities[0][ave_centralities[3]=='Republican'] - ave_centralities[1][ave_centralities[3]=='Republican'], label=\"Republican majority\")\n",
    "    coeff_dem = np.polyfit(ave_centralities[2][ave_centralities[3]=='Democrat'], ave_centralities[0][ave_centralities[3]=='Democrat'] - ave_centralities[1][ave_centralities[3]=='Democrat'], 1)\n",
    "    predict_dem = np.poly1d(coeff_dem)\n",
    "    plt.plot(ave_centralities[2][ave_centralities[3]=='Democrat'], predict_dem(ave_centralities[2][ave_centralities[3]=='Democrat']), label=\"Democrat best fit\")\n",
    "    coeff_rep = np.polyfit(ave_centralities[2][ave_centralities[3]=='Republican'], ave_centralities[0][ave_centralities[3]=='Republican'] - ave_centralities[1][ave_centralities[3]=='Republican'], 1)\n",
    "    predict_rep = np.poly1d(coeff_rep)\n",
    "    plt.plot(ave_centralities[2][ave_centralities[3]=='Republican'], predict_rep(ave_centralities[2][ave_centralities[3]=='Republican']), label=\"Republican best fit\")\n",
    "    plt.xlabel(\"Majority Ratio\")\n",
    "    plt.ylabel(\"Average \" + centrality_type + \" Centrality Difference\")\n",
    "    plt.legend()\n",
    "    plt.title(\"Average \" + centrality_type + \" Centrality Difference between Majority and Minority in Houses\")\n",
    "    plt.savefig(\"plots/\" + centrality_type + \"_centrality_diff_houses\")\n",
    "    plt.show()"
   ]
  },
  {
   "cell_type": "code",
   "execution_count": 398,
   "metadata": {
    "collapsed": true
   },
   "outputs": [],
   "source": [
    "def centrality_diff(ave_centralities, party, edge_node_ratios):\n",
    "    return (1 / edge_node_ratios)[ave_centralities[3] == party] * (ave_centralities[0][ave_centralities[3] == party] - ave_centralities[1][ave_centralities[3] == party])"
   ]
  },
  {
   "cell_type": "code",
   "execution_count": 511,
   "metadata": {
    "collapsed": true
   },
   "outputs": [],
   "source": [
    "def get_ave_value(key_range, d):\n",
    "    values = []\n",
    "    for key in key_range:\n",
    "        values.append(d[key])\n",
    "    return np.average(values)"
   ]
  },
  {
   "cell_type": "code",
   "execution_count": 527,
   "metadata": {},
   "outputs": [],
   "source": [
    "[3,2].sort()"
   ]
  },
  {
   "cell_type": "code",
   "execution_count": 533,
   "metadata": {
    "collapsed": true
   },
   "outputs": [],
   "source": [
    "def plot_centrality_diff_adjusted(ave_centralities, centrality_type, g_data):\n",
    "\n",
    "    # Centrality difference by political party\n",
    "    dem_diff = centrality_diff(ave_centralities, \"Democrat\", edge_node_ratios)\n",
    "    rep_diff = centrality_diff(ave_centralities, \"Republican\", edge_node_ratios)\n",
    "    plt.scatter(ave_centralities[2][ave_centralities[3]=='Democrat'], dem_diff, label=\"Democrat majority\")\n",
    "    plt.scatter(ave_centralities[2][ave_centralities[3]=='Republican'], rep_diff, label=\"Republican majority\")\n",
    "    coeff_dem = np.polyfit(ave_centralities[2][ave_centralities[3]=='Democrat'], dem_diff, 1)\n",
    "    predict_dem = np.poly1d(coeff_dem)\n",
    "    plt.plot(ave_centralities[2][ave_centralities[3]=='Democrat'], predict_dem(ave_centralities[2][ave_centralities[3]=='Democrat']), label=\"Democrat best fit\")\n",
    "    coeff_rep = np.polyfit(ave_centralities[2][ave_centralities[3]=='Republican'], rep_diff, 1)\n",
    "    predict_rep = np.poly1d(coeff_rep)\n",
    "    plt.plot(ave_centralities[2][ave_centralities[3]=='Republican'], predict_rep(ave_centralities[2][ave_centralities[3]=='Republican']), label=\"Republican best fit\")\n",
    "    # Stochastic block model\n",
    "#     ave_maj_ratio = np.average(ave_centralities[2])\n",
    "    ave_nodes = np.average(g_data['n_nodes'])\n",
    "    maj_ave_centrality = []\n",
    "    min_ave_centrality = []\n",
    "    maj_ratios = ave_centralities[2]\n",
    "    maj_ratios.sort()\n",
    "    for m in maj_ratios:\n",
    "        probs = [[p, q], [q, p]]\n",
    "        size_maj = int(m * ave_nodes)\n",
    "        size_min = int(ave_nodes - size_maj)\n",
    "        g = nx.generators.community.stochastic_block_model([size_maj, size_min], probs, seed=0)\n",
    "        node_centrality = get_centrality_types()[centrality_type](g)\n",
    "        maj_ave_centrality.append(get_ave_value(range(size_maj), node_centrality))\n",
    "        min_ave_centrality.append(get_ave_value(range(size_maj, int(ave_nodes)), node_centrality))\n",
    "    plt.plot(maj_ratios, np.array(maj_ave_centrality) - np.array(min_ave_centrality), label=\"SBM\")\n",
    "    plt.xlabel(\"Majority Ratio\")\n",
    "    plt.ylabel(\"Average \" + centrality_type + \" Centrality Difference\")\n",
    "    plt.legend()\n",
    "    plt.title(\"Adjusted Average \" + centrality_type + \" Centrality Difference between Majority and Minority in Houses\")\n",
    "    plt.savefig(\"plots/\" + centrality_type + \"_centrality_diff_houses_adjusted_w_sbm\")\n",
    "    plt.show()\n"
   ]
  },
  {
   "cell_type": "code",
   "execution_count": 534,
   "metadata": {},
   "outputs": [
    {
     "data": {
      "image/png": "[encoded data removed]",
      "text/plain": [
       "<matplotlib.figure.Figure at 0x111fc09e8>"
      ]
     },
     "metadata": {},
     "output_type": "display_data"
    },
    {
     "data": {
      "image/png": "[encoded data removed]",
      "text/plain": [
       "<matplotlib.figure.Figure at 0x111f647b8>"
      ]
     },
     "metadata": {},
     "output_type": "display_data"
    },
    {
     "data": {
      "image/png": "[encoded data removed]",
      "text/plain": [
       "<matplotlib.figure.Figure at 0x15167a6668>"
      ]
     },
     "metadata": {},
     "output_type": "display_data"
    },
    {
     "data": {
      "image/png": "[encoded data removed]",
      "text/plain": [
       "<matplotlib.figure.Figure at 0x110415438>"
      ]
     },
     "metadata": {},
     "output_type": "display_data"
    }
   ],
   "source": [
    "for cent in get_centrality_types():\n",
    "    plot_centrality_diff_adjusted(ave_centrality(party_affil_dict, cent), cent, g_data)"
   ]
  },
  {
   "cell_type": "code",
   "execution_count": 421,
   "metadata": {
    "collapsed": true
   },
   "outputs": [],
   "source": [
    "def get_ave_g_data(party_affil_dict):\n",
    "    t = 5\n",
    "    ratios = []\n",
    "    n_edges = []\n",
    "    n_nodes = []\n",
    "    for congress in range(93, 115):\n",
    "        g = read_gpickle(\"data/graphs/congress_\" + str(congress) + \"_below_\" + str(t) + \"_house.pkl\")\n",
    "        ratios.append(get_bichromatic_ratio(g, party_affil_dict))\n",
    "        n_edges.append(g.number_of_edges())\n",
    "        n_nodes.append(g.number_of_nodes())\n",
    "    g_data_ave = {\n",
    "        'bichromatic_ratio': np.average(ratios),\n",
    "        'n_edges': np.average(n_edges),\n",
    "        'n_nodes': np.average(n_nodes)\n",
    "    }\n",
    "    g_data = {\n",
    "        'bichromatic_ratio': np.array(ratios),\n",
    "        'n_edges': np.array(n_edges),\n",
    "        'n_nodes': np.array(n_nodes)\n",
    "    }\n",
    "    return g_data, g_data_ave"
   ]
  },
  {
   "cell_type": "code",
   "execution_count": 422,
   "metadata": {},
   "outputs": [
    {
     "data": {
      "text/plain": [
       "{'bichromatic_ratio': array([ 0.38592814,  0.39078156,  0.39729237,  0.41861648,  0.39835828,\n",
       "         0.3760903 ,  0.38665972,  0.39536138,  0.38558468,  0.3708452 ,\n",
       "         0.36607595,  0.40516698,  0.37473118,  0.39548023,  0.39887112,\n",
       "         0.41171513,  0.41719881,  0.4092901 ,  0.41479714,  0.43172119,\n",
       "         0.42816092,  0.46097815]),\n",
       " 'n_edges': array([3340, 3992, 3841, 1966, 2071, 1949, 1919, 1854, 1984, 2106, 1975,\n",
       "        1587, 1860, 2124, 2126, 2373, 2349, 2282, 2095, 1406, 1044,  961]),\n",
       " 'n_nodes': array([428, 430, 429, 424, 420, 425, 421, 417, 428, 427, 424, 415, 428,\n",
       "        424, 429, 424, 400, 371, 321, 284, 244, 222])}"
      ]
     },
     "execution_count": 422,
     "metadata": {},
     "output_type": "execute_result"
    }
   ],
   "source": [
    "g_data, g_data_ave = get_ave_g_data(party_affil_dict)\n",
    "g_data"
   ]
  },
  {
   "cell_type": "code",
   "execution_count": 390,
   "metadata": {},
   "outputs": [],
   "source": [
    "edge_node_ratios = g_data['n_edges'] / g_data['n_nodes']"
   ]
  },
  {
   "cell_type": "code",
   "execution_count": 391,
   "metadata": {},
   "outputs": [
    {
     "data": {
      "text/plain": [
       "array([ 0.12814371,  0.10771543,  0.11168966,  0.21566633,  0.20280058,\n",
       "        0.21806054,  0.2193851 ,  0.22491909,  0.21572581,  0.20275404,\n",
       "        0.21468354,  0.26149968,  0.23010753,  0.19962335,  0.20178739,\n",
       "        0.17867678,  0.17028523,  0.16257669,  0.15322196,  0.20199147,\n",
       "        0.23371648,  0.23100937])"
      ]
     },
     "execution_count": 391,
     "metadata": {},
     "output_type": "execute_result"
    }
   ],
   "source": [
    "1 / edge_node_ratios"
   ]
  },
  {
   "cell_type": "code",
   "execution_count": 409,
   "metadata": {},
   "outputs": [],
   "source": [
    "g = nx.generators.community.stochastic_block_model([500, 500], [[.1, .1], [.1, .1]], seed=1)"
   ]
  },
  {
   "cell_type": "markdown",
   "metadata": {},
   "source": [
    "total nodes * (p(maj) + q(min)) / 2 = edges <br>\n",
    "p = ratio * q/ (1-ratio)"
   ]
  },
  {
   "cell_type": "markdown",
   "metadata": {},
   "source": [
    "total nodes * (p) * total nodes / 2 = edges"
   ]
  },
  {
   "cell_type": "code",
   "execution_count": 417,
   "metadata": {},
   "outputs": [
    {
     "data": {
      "text/plain": [
       "50000.0"
      ]
     },
     "execution_count": 417,
     "metadata": {},
     "output_type": "execute_result"
    }
   ],
   "source": [
    "1000 * .1 * 1000 / 2"
   ]
  },
  {
   "cell_type": "code",
   "execution_count": 410,
   "metadata": {},
   "outputs": [
    {
     "data": {
      "text/plain": [
       "50114"
      ]
     },
     "execution_count": 410,
     "metadata": {},
     "output_type": "execute_result"
    }
   ],
   "source": [
    "g.number_of_edges()"
   ]
  },
  {
   "cell_type": "code",
   "execution_count": 415,
   "metadata": {},
   "outputs": [
    {
     "data": {
      "text/plain": [
       "0.0199545037314922"
      ]
     },
     "execution_count": 415,
     "metadata": {},
     "output_type": "execute_result"
    }
   ],
   "source": [
    "g.number_of_nodes() / g.number_of_edges()"
   ]
  },
  {
   "cell_type": "code",
   "execution_count": 503,
   "metadata": {},
   "outputs": [
    {
     "name": "stdout",
     "output_type": "stream",
     "text": [
      "0.400895682456 2145.63636364 0.54545138993 392.5\n"
     ]
    }
   ],
   "source": [
    "r = g_data_ave['bichromatic_ratio']\n",
    "e = g_data_ave['n_edges']\n",
    "m = np.average(ave_centralities[2])\n",
    "n = g_data_ave['n_nodes']\n",
    "print(r, e, m, n)"
   ]
  },
  {
   "cell_type": "code",
   "execution_count": 504,
   "metadata": {},
   "outputs": [
    {
     "name": "stdout",
     "output_type": "stream",
     "text": [
      "0.0124525987941 0.0186093440979\n"
     ]
    }
   ],
   "source": [
    "q = 2 * e * (1-r) / (r + 2*m - 2*m**2)/ n ** 2 \n",
    "p = r * q / (1 - r)\n",
    "print(p, q)"
   ]
  },
  {
   "cell_type": "code",
   "execution_count": 505,
   "metadata": {},
   "outputs": [],
   "source": [
    "g = nx.generators.community.stochastic_block_model([int(round(m * n)), int(round((1-m) * n))], [[p, q], [q, p]], seed=1)"
   ]
  },
  {
   "cell_type": "code",
   "execution_count": 506,
   "metadata": {},
   "outputs": [
    {
     "data": {
      "text/plain": [
       "1260"
      ]
     },
     "execution_count": 506,
     "metadata": {},
     "output_type": "execute_result"
    }
   ],
   "source": [
    "g.number_of_edges()"
   ]
  },
  {
   "cell_type": "code",
   "execution_count": 507,
   "metadata": {
    "collapsed": true
   },
   "outputs": [],
   "source": [
    "def predicted_edges(m, p, q, n):\n",
    "    return n**2 * (m * (p * m + q * (1-m)) + (1-m) * (p * (1-m) + q * m)) / 2"
   ]
  },
  {
   "cell_type": "code",
   "execution_count": 508,
   "metadata": {},
   "outputs": [
    {
     "data": {
      "text/plain": [
       "1194.3622020478524"
      ]
     },
     "execution_count": 508,
     "metadata": {},
     "output_type": "execute_result"
    }
   ],
   "source": [
    "predicted_edges(m, p, q, n)"
   ]
  },
  {
   "cell_type": "code",
   "execution_count": 509,
   "metadata": {
    "collapsed": true
   },
   "outputs": [],
   "source": [
    "def test_edges():\n",
    "#     m = .7\n",
    "#     p = .02\n",
    "#     q = .01\n",
    "#     n = 100\n",
    "    results = []\n",
    "    for _ in range(50):\n",
    "        g = nx.generators.community.stochastic_block_model([int(round(m * n)), int(round((1-m) * n))], [[p, q], [q, p]])\n",
    "        results.append((predicted_edges(m, p, q, n) - g.number_of_edges()) / g.number_of_edges())\n",
    "    print(np.average(results))"
   ]
  },
  {
   "cell_type": "code",
   "execution_count": 510,
   "metadata": {},
   "outputs": [
    {
     "name": "stdout",
     "output_type": "stream",
     "text": [
      "0.00664021431705\n"
     ]
    }
   ],
   "source": [
    "test_edges()"
   ]
  },
  {
   "cell_type": "code",
   "execution_count": null,
   "metadata": {
    "collapsed": true
   },
   "outputs": [],
   "source": []
  }
 ],
 "metadata": {
  "kernelspec": {
   "display_name": "Python 3",
   "language": "python",
   "name": "python3"
  },
  "language_info": {
   "codemirror_mode": {
    "name": "ipython",
    "version": 3
   },
   "file_extension": ".py",
   "mimetype": "text/x-python",
   "name": "python",
   "nbconvert_exporter": "python",
   "pygments_lexer": "ipython3",
   "version": "3.6.8"
  }
 },
 "nbformat": 4,
 "nbformat_minor": 2
}
