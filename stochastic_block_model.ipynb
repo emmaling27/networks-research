{
 "cells": [
  {
   "cell_type": "code",
   "execution_count": 441,
   "metadata": {
    "collapsed": true
   },
   "outputs": [],
   "source": [
    "import networkx as nx\n",
    "import numpy as np\n",
    "import random\n",
    "import matplotlib.pyplot as plt\n",
    "from scipy.special import comb"
   ]
  },
  {
   "cell_type": "code",
   "execution_count": 412,
   "metadata": {},
   "outputs": [],
   "source": [
    "def get_bichromatic_ratio(g):\n",
    "    bichromatic = 0\n",
    "    for (x,y) in g.edges():\n",
    "        if (x < size_maj) != (y < size_maj):\n",
    "            bichromatic += 1\n",
    "    return bichromatic / len(g.edges())"
   ]
  },
  {
   "cell_type": "code",
   "execution_count": 584,
   "metadata": {},
   "outputs": [],
   "source": [
    "graph_size = 1000\n",
    "maj_min_ratio = .5\n",
    "size_maj = int(maj_min_ratio * graph_size)\n",
    "size_min = int(graph_size - size_maj)\n",
    "probs = [[0.05, 0.02],\n",
    "         [0.02, 0.05]]\n",
    "g = nx.generators.community.stochastic_block_model([size_maj, size_min], probs, seed=0)"
   ]
  },
  {
   "cell_type": "code",
   "execution_count": 585,
   "metadata": {
    "collapsed": true
   },
   "outputs": [],
   "source": [
    "def expected_bichromatic_wedges(n, p, q):\n",
    "    return 2 * n * comb(n/2, 2) * p * q * (1-q)"
   ]
  },
  {
   "cell_type": "code",
   "execution_count": 566,
   "metadata": {
    "collapsed": true
   },
   "outputs": [],
   "source": [
    "def expected_monochromatic_wedges(n, p, q):\n",
    "    return 3 * 2 * comb(n/2, 3) * p**2 * (1-p) + n * comb(n/2, 2) * q**2 * (1-p)"
   ]
  },
  {
   "cell_type": "code",
   "execution_count": 567,
   "metadata": {},
   "outputs": [
    {
     "data": {
      "text/plain": [
       "592562.5"
      ]
     },
     "execution_count": 567,
     "metadata": {},
     "output_type": "execute_result"
    }
   ],
   "source": [
    "expected_bichromatic_wedges(graph_size, probs[0][0], probs[0][1])"
   ]
  },
  {
   "cell_type": "code",
   "execution_count": 568,
   "metadata": {},
   "outputs": [
    {
     "data": {
      "text/plain": [
       "591377.37500000012"
      ]
     },
     "execution_count": 568,
     "metadata": {},
     "output_type": "execute_result"
    }
   ],
   "source": [
    "expected_monochromatic_wedges(graph_size, probs[0][0], probs[0][1])"
   ]
  },
  {
   "cell_type": "code",
   "execution_count": 569,
   "metadata": {},
   "outputs": [
    {
     "data": {
      "text/plain": [
       "0.49949949949949962"
      ]
     },
     "execution_count": 569,
     "metadata": {},
     "output_type": "execute_result"
    }
   ],
   "source": [
    "expected_monochromatic_wedges(graph_size, probs[0][0], probs[0][1]) / (expected_monochromatic_wedges(graph_size, probs[0][0], probs[0][1]) + expected_bichromatic_wedges(graph_size, probs[0][0], probs[0][1]))"
   ]
  },
  {
   "cell_type": "code",
   "execution_count": 572,
   "metadata": {
    "collapsed": true
   },
   "outputs": [],
   "source": [
    "iterations = 10\n",
    "new_friends_per_iter = 1\n",
    "alpha = 1"
   ]
  },
  {
   "cell_type": "code",
   "execution_count": 573,
   "metadata": {
    "collapsed": true
   },
   "outputs": [],
   "source": [
    "def get_group(node):\n",
    "    if node < size_maj:\n",
    "        return range(size_maj)\n",
    "    else:\n",
    "        return range(size_maj, graph_size)"
   ]
  },
  {
   "cell_type": "code",
   "execution_count": 593,
   "metadata": {},
   "outputs": [],
   "source": [
    "def close_wedges(g, isalpha, alpha, iterations, new_friends_per_iter):\n",
    "    bichromatic_ratios = [get_bichromatic_ratio(g)]\n",
    "    for i in range(iterations):\n",
    "        # Select random node\n",
    "        node = np.random.randint(0, g.number_of_nodes())\n",
    "        edges_added = 0\n",
    "        # Add edges of friends of friends randomly\n",
    "        while (edges_added < new_friends_per_iter):\n",
    "            if isalpha:\n",
    "                same_type = np.random.binomial(1, alpha)\n",
    "                if same_type:\n",
    "                    friends = set(nx.all_neighbors(g, node)).intersection(set(get_group(node)))\n",
    "                else:\n",
    "                    friends = set(nx.all_neighbors(g, node)).difference(set(get_group(node)))\n",
    "            else:\n",
    "                friends = set(nx.all_neighbors(g, node))\n",
    "            if len(friends) > 0:\n",
    "                friend = random.sample(friends, 1)[0]\n",
    "                new_possible_friends = set(nx.all_neighbors(g, friend)).difference(set(nx.all_neighbors(g, node)))\n",
    "                if len(new_possible_friends) > 0:\n",
    "                    new_friend = random.sample(new_possible_friends, 1)[0]\n",
    "                    g.add_edge(node, new_friend)\n",
    "                    edges_added += 1\n",
    "                else:\n",
    "                    node = np.random.randint(0, g.number_of_nodes())\n",
    "            else:\n",
    "                node = np.random.randint(0, g.number_of_nodes())\n",
    "        bichromatic_ratios.append(get_bichromatic_ratio(g))\n",
    "    return bichromatic_ratios"
   ]
  },
  {
   "cell_type": "code",
   "execution_count": 598,
   "metadata": {
    "collapsed": true
   },
   "outputs": [],
   "source": [
    "def plot_bichromatic_ratios_sbm(sample_size, graph_size, maj_min_ratio, probs, iterations, new_friends_per_iter):\n",
    "    size_maj = int(maj_min_ratio * graph_size)\n",
    "    size_min = int(graph_size - size_maj)\n",
    "    bichromatic_ratio_matrix = []\n",
    "    for seed in range(sample_size):\n",
    "        g = nx.generators.community.stochastic_block_model([size_maj, size_min], probs, seed=seed)\n",
    "        bichromatic_ratio_matrix.append(close_wedges(g, False, 1, iterations, new_friends_per_iter))\n",
    "    bichromatic_ratios = np.average(bichromatic_ratio_matrix, axis=0)\n",
    "    print(bichromatic_ratios)\n",
    "    plt.plot(range(len(bichromatic_ratios)), bichromatic_ratios)\n",
    "    plt.xlabel(\"Iterations\")\n",
    "    plt.ylabel(\"Ratio of Bichromatic Edges\")\n",
    "    plt.title(\"Ratio of Bichromatic Edges for \" + str(int(maj_min_ratio * 100)) + \"% Majority, p=\" +str(probs[0][0]) + \" q=\" + str(probs[0][1]))\n",
    "    # plt.savefig(\"plots/bichromatic_ratio_maj_\" + str(int(maj_min_ratio * 100)) + \"g\" + str(graph_size) + \"_iters\" + str(iterations) + \"_type_bias\" + \"_alpha\" + str(int(10 * alpha)))\n",
    "    plt.savefig(\"plots/sbm_p=\" + str(int(100*probs[0][0])) + \"_q=\" + str(int(100*probs[0][1])) + \"biratio_maj_\" + str(int(maj_min_ratio * 100)) + \"g\" + str(graph_size) + \"_sample\" + str(sample_size))\n",
    "    plt.show()"
   ]
  },
  {
   "cell_type": "code",
   "execution_count": 599,
   "metadata": {},
   "outputs": [
    {
     "name": "stdout",
     "output_type": "stream",
     "text": [
      "[ 0.50045084  0.50045082  0.50045242  0.50045318  0.50045238  0.50045397\n",
      "  0.50045554  0.5004539   0.50045545  0.50045465  0.50045221]\n"
     ]
    },
    {
     "data": {
      "image/png": "[encoded data removed]",
      "text/plain": [
       "<matplotlib.figure.Figure at 0x150f8223c8>"
      ]
     },
     "metadata": {},
     "output_type": "display_data"
    }
   ],
   "source": [
    "plot_bichromatic_ratios_sbm(50, 1000, .5, [[0.05, 0.05],[0.05, 0.05]], 10, 1)"
   ]
  },
  {
   "cell_type": "code",
   "execution_count": 610,
   "metadata": {
    "collapsed": true
   },
   "outputs": [],
   "source": [
    "def get_ave_value(key_range, d):\n",
    "    values = []\n",
    "    for key in key_range:\n",
    "        values.append(d[key])\n",
    "    return np.average(values)"
   ]
  },
  {
   "cell_type": "code",
   "execution_count": 631,
   "metadata": {
    "collapsed": true
   },
   "outputs": [],
   "source": [
    "def plot_degree_centrality(graph_size, probs):\n",
    "    maj_ave_degree = []\n",
    "    min_ave_degree = []\n",
    "    maj_min_ratios = np.arange(.5, 1, .05)\n",
    "    for maj_min_ratio in maj_min_ratios:\n",
    "        size_maj = int(maj_min_ratio * graph_size)\n",
    "        size_min = int(graph_size - size_maj)\n",
    "        g = nx.generators.community.stochastic_block_model([size_maj, size_min], probs, seed=seed)\n",
    "        node_degrees = nx.algorithms.centrality.degree_centrality(g)\n",
    "        maj_ave_degree.append(get_ave_value(range(size_maj), node_degrees))\n",
    "        min_ave_degree.append(get_ave_value(range(size_maj, graph_size), node_degrees))\n",
    "    plt.plot(maj_min_ratios, maj_ave_degree, label=\"Majority\")\n",
    "    plt.plot(maj_min_ratios, min_ave_degree, label=\"Minority\")\n",
    "    plt.xlabel(\"Majority Ratio\")\n",
    "    plt.ylabel(\"Average Degree Centrality\")\n",
    "    plt.title(\"Average Degree Centrality, p=\" + str(probs[0][0]) + \", q=\" + str(probs[0][1]))\n",
    "    plt.legend()\n",
    "    plt.savefig(\"plots/deg_centrality_p=\" + str(int(100*probs[0][0])) + \"_q=\" + str(int(100*probs[0][1])) + \"_g\" + str(graph_size))\n",
    "    plt.show()\n",
    "    return maj_ave_degree, min_ave_degree"
   ]
  },
  {
   "cell_type": "code",
   "execution_count": 635,
   "metadata": {},
   "outputs": [
    {
     "data": {
      "image/png": "[encoded data removed]",
      "text/plain": [
       "<matplotlib.figure.Figure at 0x15154d48d0>"
      ]
     },
     "metadata": {},
     "output_type": "display_data"
    },
    {
     "data": {
      "text/plain": [
       "([0.035019019019019021,\n",
       "  0.036813176813176814,\n",
       "  0.03838004671338005,\n",
       "  0.039513359513359513,\n",
       "  0.040946660946660947,\n",
       "  0.042511845178511851,\n",
       "  0.043976476476476484,\n",
       "  0.045238179355826406,\n",
       "  0.046986986986986987,\n",
       "  0.048513776934829562],\n",
       " [0.034502502502502495,\n",
       "  0.032790568346123899,\n",
       "  0.031809309309309308,\n",
       "  0.030121550121550125,\n",
       "  0.02886219552886219,\n",
       "  0.027483483483483482,\n",
       "  0.025625625625625627,\n",
       "  0.023917250583917249,\n",
       "  0.023703703703703703,\n",
       "  0.021221221221221217])"
      ]
     },
     "execution_count": 635,
     "metadata": {},
     "output_type": "execute_result"
    }
   ],
   "source": [
    "plot_degree_centrality(1000, [[0.05, 0.02],[0.02, 0.05]])"
   ]
  },
  {
   "cell_type": "code",
   "execution_count": 607,
   "metadata": {},
   "outputs": [
    {
     "data": {
      "text/plain": [
       "array([ 0.5,  0.6,  0.7,  0.8,  0.9])"
      ]
     },
     "execution_count": 607,
     "metadata": {},
     "output_type": "execute_result"
    }
   ],
   "source": [
    "np.arange(.5, 1, .1)"
   ]
  },
  {
   "cell_type": "code",
   "execution_count": null,
   "metadata": {
    "collapsed": true
   },
   "outputs": [],
   "source": []
  }
 ],
 "metadata": {
  "kernelspec": {
   "display_name": "Python 3",
   "language": "python",
   "name": "python3"
  },
  "language_info": {
   "codemirror_mode": {
    "name": "ipython",
    "version": 3
   },
   "file_extension": ".py",
   "mimetype": "text/x-python",
   "name": "python",
   "nbconvert_exporter": "python",
   "pygments_lexer": "ipython3",
   "version": "3.6.8"
  }
 },
 "nbformat": 4,
 "nbformat_minor": 2
}
