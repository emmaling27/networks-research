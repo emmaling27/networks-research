{
 "cells": [
  {
   "cell_type": "code",
   "execution_count": 93,
   "metadata": {
    "collapsed": true
   },
   "outputs": [],
   "source": [
    "import networkx as nx\n",
    "import numpy as np\n",
    "import random"
   ]
  },
  {
   "cell_type": "code",
   "execution_count": 26,
   "metadata": {
    "collapsed": true
   },
   "outputs": [],
   "source": [
    "size_1 = 50\n",
    "size_2 = 50"
   ]
  },
  {
   "cell_type": "code",
   "execution_count": 37,
   "metadata": {
    "collapsed": true
   },
   "outputs": [],
   "source": [
    "sizes = [size_1, size_2]\n",
    "probs = [[0.01, 0.01],\n",
    "         [0.01, 0.01]]"
   ]
  },
  {
   "cell_type": "code",
   "execution_count": 50,
   "metadata": {},
   "outputs": [],
   "source": [
    "g = nx.generators.community.stochastic_block_model(sizes, probs, seed=11)"
   ]
  },
  {
   "cell_type": "code",
   "execution_count": 51,
   "metadata": {},
   "outputs": [
    {
     "data": {
      "text/plain": [
       "EdgeView([(1, 3), (1, 59), (4, 51), (5, 78), (5, 85), (7, 86), (9, 95), (9, 97), (10, 97), (17, 69), (19, 60), (20, 47), (20, 53), (25, 86), (27, 93), (28, 80), (28, 95), (29, 98), (30, 47), (30, 61), (31, 88), (33, 81), (33, 98), (35, 94), (36, 69), (39, 72), (41, 78), (44, 97), (46, 57), (49, 87), (53, 54), (57, 80), (65, 98), (66, 68), (67, 78), (74, 99), (83, 93)])"
      ]
     },
     "execution_count": 51,
     "metadata": {},
     "output_type": "execute_result"
    }
   ],
   "source": [
    "g.edges()"
   ]
  },
  {
   "cell_type": "code",
   "execution_count": 52,
   "metadata": {},
   "outputs": [
    {
     "data": {
      "text/plain": [
       "NodeView((0, 1, 2, 3, 4, 5, 6, 7, 8, 9, 10, 11, 12, 13, 14, 15, 16, 17, 18, 19, 20, 21, 22, 23, 24, 25, 26, 27, 28, 29, 30, 31, 32, 33, 34, 35, 36, 37, 38, 39, 40, 41, 42, 43, 44, 45, 46, 47, 48, 49, 50, 51, 52, 53, 54, 55, 56, 57, 58, 59, 60, 61, 62, 63, 64, 65, 66, 67, 68, 69, 70, 71, 72, 73, 74, 75, 76, 77, 78, 79, 80, 81, 82, 83, 84, 85, 86, 87, 88, 89, 90, 91, 92, 93, 94, 95, 96, 97, 98, 99))"
      ]
     },
     "execution_count": 52,
     "metadata": {},
     "output_type": "execute_result"
    }
   ],
   "source": [
    "g.nodes()"
   ]
  },
  {
   "cell_type": "code",
   "execution_count": 62,
   "metadata": {
    "collapsed": true
   },
   "outputs": [],
   "source": [
    "bichromatic_ratio = []\n",
    "for x in range(5000):\n",
    "    g = nx.generators.community.stochastic_block_model(sizes, probs, seed=x)\n",
    "    bichromatic = 0\n",
    "    for (x,y) in g.edges():\n",
    "        if x // size_1 != y // size_2:\n",
    "            bichromatic += 1\n",
    "    bichromatic_ratio.append(bichromatic / len(g.edges()))"
   ]
  },
  {
   "cell_type": "code",
   "execution_count": null,
   "metadata": {
    "collapsed": true
   },
   "outputs": [],
   "source": []
  },
  {
   "cell_type": "code",
   "execution_count": 25,
   "metadata": {},
   "outputs": [
    {
     "data": {
      "text/plain": [
       "1"
      ]
     },
     "execution_count": 25,
     "metadata": {},
     "output_type": "execute_result"
    }
   ],
   "source": [
    "26 // 25"
   ]
  },
  {
   "cell_type": "code",
   "execution_count": 63,
   "metadata": {},
   "outputs": [
    {
     "data": {
      "text/plain": [
       "0.5041452851852587"
      ]
     },
     "execution_count": 63,
     "metadata": {},
     "output_type": "execute_result"
    }
   ],
   "source": [
    "np.average(bichromatic_ratio)"
   ]
  },
  {
   "cell_type": "code",
   "execution_count": 65,
   "metadata": {},
   "outputs": [
    {
     "data": {
      "text/plain": [
       "0.54970375246872938"
      ]
     },
     "execution_count": 65,
     "metadata": {},
     "output_type": "execute_result"
    }
   ],
   "source": [
    "np.max(bichromatic_ratio) - np.min(bichromatic_ratio)"
   ]
  },
  {
   "cell_type": "markdown",
   "metadata": {},
   "source": [
    "## Create graph"
   ]
  },
  {
   "cell_type": "code",
   "execution_count": 66,
   "metadata": {
    "collapsed": true
   },
   "outputs": [],
   "source": [
    "G = nx.Graph()\n",
    "G.add_nodes_from(range(graph_size))"
   ]
  },
  {
   "cell_type": "code",
   "execution_count": 173,
   "metadata": {},
   "outputs": [],
   "source": [
    "def get_bichromatic_ratio(g):\n",
    "    bichromatic = 0\n",
    "    for (x,y) in g.edges():\n",
    "        if x // size_1 != y // size_2:\n",
    "            bichromatic += 1\n",
    "    return bichromatic / len(g.edges())"
   ]
  },
  {
   "cell_type": "code",
   "execution_count": 174,
   "metadata": {
    "collapsed": true
   },
   "outputs": [],
   "source": [
    "graph_size = 100\n",
    "maj_min_ratio = .5\n",
    "size_maj = int(maj_min_ratio * graph_size)\n",
    "size_min = int(graph_size - size_1)\n",
    "probs = [[0.05, 0.05],\n",
    "         [0.05, 0.05]]\n",
    "g = nx.generators.community.stochastic_block_model([size_maj, size_min], probs, seed=0)\n",
    "bichromatic_ratios = [get_bichromatic_ratio(g)]"
   ]
  },
  {
   "cell_type": "code",
   "execution_count": 175,
   "metadata": {},
   "outputs": [
    {
     "data": {
      "text/plain": [
       "[0.449438202247191]"
      ]
     },
     "execution_count": 175,
     "metadata": {},
     "output_type": "execute_result"
    }
   ],
   "source": [
    "bichromatic_ratios"
   ]
  },
  {
   "cell_type": "code",
   "execution_count": 176,
   "metadata": {},
   "outputs": [
    {
     "data": {
      "text/plain": [
       "267"
      ]
     },
     "execution_count": 176,
     "metadata": {},
     "output_type": "execute_result"
    }
   ],
   "source": [
    "len(g.edges())"
   ]
  },
  {
   "cell_type": "code",
   "execution_count": 177,
   "metadata": {
    "collapsed": true
   },
   "outputs": [],
   "source": [
    "iterations = 20\n",
    "new_friends_per_iter = 5"
   ]
  },
  {
   "cell_type": "code",
   "execution_count": 178,
   "metadata": {
    "collapsed": true
   },
   "outputs": [],
   "source": [
    "def get_group_size(node):\n",
    "    if node < size_maj:\n",
    "        return size_maj\n",
    "    else:\n",
    "        return size_min"
   ]
  },
  {
   "cell_type": "code",
   "execution_count": 179,
   "metadata": {},
   "outputs": [],
   "source": [
    "for _ in range(iterations):\n",
    "    # Select random node\n",
    "    node = np.random.randint(0, graph_size)\n",
    "    edges_added = 0\n",
    "    # Add edges of friends of friends randomly\n",
    "    while (edges_added < new_friends_per_iter):\n",
    "        if len(set(nx.all_neighbors(g, node)).intersection(set(range(get_group_size(node))))) > 0:\n",
    "            friend = random.sample(set(nx.all_neighbors(g, node)).intersection(set(range(get_group_size(node)))), 1)[0]\n",
    "            new_possible_friends = set(nx.all_neighbors(g, friend)).difference(set(nx.all_neighbors(g, node)))\n",
    "            if len(new_possible_friends) > 0:\n",
    "                new_friend = random.sample(new_possible_friends, 1)[0]\n",
    "                g.add_edge(node, new_friend)\n",
    "                edges_added += 1\n",
    "    bichromatic_ratios.append(get_bichromatic_ratio(g))"
   ]
  },
  {
   "cell_type": "code",
   "execution_count": 180,
   "metadata": {},
   "outputs": [
    {
     "data": {
      "text/plain": [
       "367"
      ]
     },
     "execution_count": 180,
     "metadata": {},
     "output_type": "execute_result"
    }
   ],
   "source": [
    "len(g.edges())"
   ]
  },
  {
   "cell_type": "code",
   "execution_count": 181,
   "metadata": {},
   "outputs": [
    {
     "data": {
      "text/plain": [
       "50"
      ]
     },
     "execution_count": 181,
     "metadata": {},
     "output_type": "execute_result"
    }
   ],
   "source": [
    "get_group_size(30)"
   ]
  },
  {
   "cell_type": "code",
   "execution_count": 182,
   "metadata": {},
   "outputs": [
    {
     "data": {
      "text/plain": [
       "[0.449438202247191,\n",
       " 0.4485294117647059,\n",
       " 0.4548736462093863,\n",
       " 0.4574468085106383,\n",
       " 0.4564459930313589,\n",
       " 0.4554794520547945,\n",
       " 0.45454545454545453,\n",
       " 0.45695364238410596,\n",
       " 0.4592833876221498,\n",
       " 0.46153846153846156,\n",
       " 0.4605678233438486,\n",
       " 0.45962732919254656,\n",
       " 0.45565749235474007,\n",
       " 0.45180722891566266,\n",
       " 0.4540059347181009,\n",
       " 0.45321637426900585,\n",
       " 0.45821325648414984,\n",
       " 0.45738636363636365,\n",
       " 0.4565826330532213,\n",
       " 0.4558011049723757,\n",
       " 0.45776566757493187]"
      ]
     },
     "execution_count": 182,
     "metadata": {},
     "output_type": "execute_result"
    }
   ],
   "source": [
    "bichromatic_ratios"
   ]
  },
  {
   "cell_type": "code",
   "execution_count": null,
   "metadata": {
    "collapsed": true
   },
   "outputs": [],
   "source": []
  }
 ],
 "metadata": {
  "kernelspec": {
   "display_name": "Python 3",
   "language": "python",
   "name": "python3"
  },
  "language_info": {
   "codemirror_mode": {
    "name": "ipython",
    "version": 3
   },
   "file_extension": ".py",
   "mimetype": "text/x-python",
   "name": "python",
   "nbconvert_exporter": "python",
   "pygments_lexer": "ipython3",
   "version": "3.6.8"
  }
 },
 "nbformat": 4,
 "nbformat_minor": 2
}
